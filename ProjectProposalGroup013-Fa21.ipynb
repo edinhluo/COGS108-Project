{
 "cells": [
  {
   "cell_type": "markdown",
   "metadata": {},
   "source": [
    "# COGS 108 - Final Project Proposal"
   ]
  },
  {
   "cell_type": "markdown",
   "metadata": {},
   "source": [
    "# Names\n",
    "\n",
    "- Crystal Zhan\n",
    "- Akil Selvan Rajendra Janarthanan \n",
    "- Kristen Prescaro\n",
    "- Kristine Thipatima\n",
    "- Ethan Dinh-Luong\n"
   ]
  },
  {
   "cell_type": "markdown",
   "metadata": {},
   "source": [
    "# Research Question"
   ]
  },
  {
   "cell_type": "markdown",
   "metadata": {},
   "source": [
    "How did the addition of the Fairy type in Pokemon affect the usage of Dragon types in battles on Pokemon Showdown? Additionally, what are the effects on different Pokemon formats, differently rated players, other related types, and across generations?"
   ]
  },
  {
   "cell_type": "markdown",
   "metadata": {},
   "source": [
    "## Background and Prior Work"
   ]
  },
  {
   "cell_type": "markdown",
   "metadata": {},
   "source": [
    " # **[note: explain what all our variables are, like pokemon, pokemon types, player ratings, showdown battle formats, pokemon generations (& the relevant changes in them)]**"
   ]
  },
  {
   "cell_type": "markdown",
   "metadata": {},
   "source": [
    "*Fill in your background and prior work here. Be sure to specify which statements are from which references.* \n",
    "\n",
    "References (include links):\n",
    "- 1)\n",
    "- 2)"
   ]
  },
  {
   "cell_type": "markdown",
   "metadata": {},
   "source": [
    "# Hypothesis\n"
   ]
  },
  {
   "cell_type": "markdown",
   "metadata": {},
   "source": [
    "With the addition of the new Fairy type in Generation 6, we predicted that types effective against Fairy type (Poison, Steel) would increase in usage, while the Dragon type, which is weak to Fairy type, would decrease in usage. We would also expect Ice types, another counter to Dragon types, to decrease in usage. We predicted that the trend would remain consistent as more Fairy type Pokemon are added to the game with each generation."
   ]
  },
  {
   "cell_type": "markdown",
   "metadata": {},
   "source": [
    "# Data"
   ]
  },
  {
   "cell_type": "markdown",
   "metadata": {},
   "source": [
    "The dataset used in our project is found on from www.smogon.com/stats, a publicly available dataset that tracks Pokemon Showdown usage statistics. We will also use another dataset including basic information on each Pokemon that includes their types and movesets, where we possibly can join the two tables based on *Pokemon* ID.\n",
    "\n",
    "The variables analyzed in our dataset will be the usage of:\n",
    "- Pokemon, including their Moves\n",
    "- Pokemon and Move Types\n",
    "- Player Ratings\n",
    "- Pokemon Battle Formats\n",
    "- Data across Generations, specifically the beginning and ending months of each Generation\n",
    "\n",
    "There are over 10000 observations, if not more, in the publicly available datasets given by Smogon.com, given as JSON and text files. These files will be read into our Jupyter Notebook using Pandas, stored as Semi-structured tables. "
   ]
  },
  {
   "cell_type": "markdown",
   "metadata": {},
   "source": [
    "# Ethics & Privacy"
   ]
  },
  {
   "cell_type": "markdown",
   "metadata": {},
   "source": [
    "Formats, Meta, and Bans"
   ]
  },
  {
   "cell_type": "markdown",
   "metadata": {},
   "source": [
    "# Team Expectations "
   ]
  },
  {
   "cell_type": "markdown",
   "metadata": {},
   "source": [
    "* *Team Expectation 1*\n",
    "* *Team Expectation 2*\n",
    "* *Team Expecation 3*\n",
    "* ..."
   ]
  },
  {
   "cell_type": "markdown",
   "metadata": {},
   "source": []
  },
  {
   "cell_type": "markdown",
   "metadata": {},
   "source": [
    "# Project Timeline Proposal"
   ]
  },
  {
   "cell_type": "markdown",
   "metadata": {},
   "source": [
    "| Meeting Date  | Meeting Time| Completed Before Meeting  | Discuss at Meeting |\n",
    "|---|---|---|---|\n",
    "| Every Weds.  |  9:00 PM | Extra meeting if necessary  |  | \n",
    "| 10/25  |  1:30 PM | Look at data set/decide which datasets we’ll be using  | Start tidying data | \n",
    "| 11/1  |  1:30 PM |  Tidying Data | Continue Tidying Data | \n",
    "| 11/5  |   | **CHECKPOINT 1 DUE**  |    |\n",
    "| 11/8  | 1:30 PM  | Start Analysis | Discuss Analysis Plan|\n",
    "| 11/15  | 1:30 PM  | | Discuss/edit Analysis; Complete project check-in |\n",
    "| 11/19  |  | **CHECKPOINT 2 DUE**|  |\n",
    "| 11/22  | 1:30 PM  | Finalize EDA | |\n",
    "| 11/29  | 1:30 PM  | Complete Analysis; Draft results| Discuss/edit Final Project |\n",
    "| 12/6  | 1:30 PM  | Edit Video | Turn in Final Project & Group Project Surveys |\n",
    "| 12/10  |  | **EVERYTHING DUE** | |"
   ]
  },
  {
   "cell_type": "markdown",
   "metadata": {},
   "source": []
  }
 ],
 "metadata": {
  "interpreter": {
   "hash": "9e57da381150c32bc445a617f5277ea2102eb0088f85f33ec3bf81d0c63bfe54"
  },
  "kernelspec": {
   "display_name": "Python 3.8.8 64-bit ('base': conda)",
   "name": "python3"
  },
  "language_info": {
   "codemirror_mode": {
    "name": "ipython",
    "version": 3
   },
   "file_extension": ".py",
   "mimetype": "text/x-python",
   "name": "python",
   "nbconvert_exporter": "python",
   "pygments_lexer": "ipython3",
   "version": "3.8.8"
  }
 },
 "nbformat": 4,
 "nbformat_minor": 2
}
