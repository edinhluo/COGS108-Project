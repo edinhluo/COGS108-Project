{
 "cells": [
  {
   "cell_type": "markdown",
   "metadata": {},
   "source": [
    "# COGS 108 - Data Checkpoint"
   ]
  },
  {
   "cell_type": "markdown",
   "metadata": {},
   "source": [
    "# Names\n",
    "\n",
    "- Crystal Zhan\n",
    "- Akil Selvan Rajendra Janarthanan \n",
    "- Kristen Prescaro\n",
    "- Kristine Thipatima\n",
    "- Ethan Dinh-Luong"
   ]
  },
  {
   "cell_type": "markdown",
   "metadata": {},
   "source": [
    "<a id='research_question'></a>\n",
    "# Research Question"
   ]
  },
  {
   "cell_type": "markdown",
   "metadata": {},
   "source": [
    "How did the addition of the Fairy type in Pokemon affect the usage of Dragon types in battles on Pokemon Showdown? Additionally, what are the effects on different Pokemon formats, differently rated players, other related types, and across generations?"
   ]
  },
  {
   "cell_type": "markdown",
   "metadata": {},
   "source": [
    "# Dataset(s)"
   ]
  },
  {
   "cell_type": "markdown",
   "metadata": {},
   "source": [
    "- Dataset Name: Pokedex\n",
    "- Link to the dataset: https://github.com/smogon/pokemon-showdown/blob/master/data/pokedex.ts\n",
    "- Number of observations: 1155\n",
    "This dataset has every single Pokemon and many of their attributes, like name, gender, height, and stats. We are using their name and type. \n",
    "\n",
    "- Dataset Name: Moves\n",
    "- Link to the dataset: https://github.com/smogon/pokemon-showdown/blob/master/data/moves.ts\n",
    "- Number of observations: 859 \n",
    "This dataset has every single move a Pokemon can learn and attributes, like power, accuracy, and type. We will be using the move's type and name. \n",
    "\n",
    "- Dataset Name: Pokemon Showdown Battle Stats \n",
    "- Link to the dataset: https://www.smogon.com/stats/\n",
    "- Number of observations: a lot\n",
    "This dataset has all the statistics from Pokemon Showdown battles ranging from 2014 to now in different battle formats. We will extract the top Pokemon used in specific formats and months at high rating, alongside the Pokemon usage % and move usage %. \n",
    "\n",
    "To combine these datasets, we will be using the Pokemon's name. \n",
    "\n",
    "1-2 sentences describing each dataset. \n",
    "\n",
    "If you plan to use multiple datasets, add 1-2 sentences about how you plan to combine these datasets."
   ]
  },
  {
   "cell_type": "markdown",
   "metadata": {},
   "source": [
    "# Setup"
   ]
  },
  {
   "cell_type": "code",
   "execution_count": null,
   "metadata": {},
   "outputs": [],
   "source": [
    "import pandas as pd\n",
    "import numpy as np\n",
    "import seaborn as sns\n",
    "import matplotlib.pyplot as plt"
   ]
  },
  {
   "cell_type": "markdown",
   "metadata": {},
   "source": [
    "# Data Cleaning"
   ]
  },
  {
   "cell_type": "markdown",
   "metadata": {},
   "source": [
    "Describe your data cleaning steps here."
   ]
  },
  {
   "cell_type": "code",
   "execution_count": 2,
   "metadata": {},
   "outputs": [],
   "source": [
    "## YOUR CODE HERE\n",
    "## FEEL FREE TO ADD MULTIPLE CELLS PER SECTION"
   ]
  }
 ],
 "metadata": {
  "interpreter": {
   "hash": "21d0740dfabba7591fc8b9c3669a6d83a9e0bf97d01bbf8e493cfd2c5dff7c0b"
  },
  "kernelspec": {
   "display_name": "Python 3.9.1 64-bit ('bacaw': conda)",
   "name": "python3"
  },
  "language_info": {
   "codemirror_mode": {
    "name": "ipython",
    "version": 3
   },
   "file_extension": ".py",
   "mimetype": "text/x-python",
   "name": "python",
   "nbconvert_exporter": "python",
   "pygments_lexer": "ipython3",
   "version": "3.9.1"
  }
 },
 "nbformat": 4,
 "nbformat_minor": 2
}
