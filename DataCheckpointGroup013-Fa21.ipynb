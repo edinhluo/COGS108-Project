{
 "cells": [
  {
   "cell_type": "markdown",
   "metadata": {},
   "source": [
    "# COGS 108 - Data Checkpoint"
   ]
  },
  {
   "cell_type": "markdown",
   "metadata": {},
   "source": [
    "# Names\n",
    "\n",
    "- Crystal Zhan\n",
    "- Akil Selvan Rajendra Janarthanan \n",
    "- Kristen Prescaro\n",
    "- Kristine Thipatima\n",
    "- Ethan Dinh-Luong"
   ]
  },
  {
   "cell_type": "markdown",
   "metadata": {},
   "source": [
    "<a id='research_question'></a>\n",
    "# Research Question"
   ]
  },
  {
   "cell_type": "markdown",
   "metadata": {},
   "source": [
    "How did the addition of the Fairy type in Pokemon affect the usage of Dragon types in battles on Pokemon Showdown? Additionally, what are the effects on different Pokemon formats, differently rated players, other related types, and across generations?"
   ]
  },
  {
   "cell_type": "markdown",
   "metadata": {},
   "source": [
    "# Dataset(s)"
   ]
  },
  {
   "cell_type": "markdown",
   "metadata": {},
   "source": [
    "- Dataset Name: Pokedex\n",
    "- Link to the dataset: https://github.com/smogon/pokemon-showdown/blob/master/data/pokedex.ts\n",
    "- Number of observations: 1155\n",
    "This dataset has every single Pokemon and many of their attributes, like name, gender, height, and stats. We are using their name and type. \n",
    "\n",
    "- Dataset Name: Moves\n",
    "- Link to the dataset: https://github.com/smogon/pokemon-showdown/blob/master/data/moves.ts\n",
    "- Number of observations: 859 \n",
    "This dataset has every single move a Pokemon can learn and attributes, like power, accuracy, and type. We will be using the move's type and name. \n",
    "\n",
    "- Dataset Name: Pokemon Showdown Battle Stats \n",
    "- Link to the dataset: https://www.smogon.com/stats/\n",
    "- Number of observations: a lot\n",
    "This dataset has all the statistics from Pokemon Showdown battles ranging from 2014 to now in different battle formats. We will extract the top Pokemon used in specific formats and months at high rating, alongside the Pokemon usage % and move usage %. \n",
    "\n",
    "To combine these datasets, we will be using the Pokemon's name. \n",
    "\n",
    "1-2 sentences describing each dataset. \n",
    "\n",
    "If you plan to use multiple datasets, add 1-2 sentences about how you plan to combine these datasets."
   ]
  },
  {
   "cell_type": "markdown",
   "metadata": {},
   "source": [
    "# Setup"
   ]
  },
  {
   "cell_type": "code",
   "execution_count": 1,
   "metadata": {},
   "outputs": [],
   "source": [
    "import pandas as pd\n",
    "import numpy as np\n",
    "import seaborn as sns\n",
    "import matplotlib.pyplot as plt"
   ]
  },
  {
   "cell_type": "markdown",
   "metadata": {},
   "source": [
    "# Data Cleaning"
   ]
  },
  {
   "cell_type": "markdown",
   "metadata": {},
   "source": [
    "Describe your data cleaning steps here."
   ]
  },
  {
   "cell_type": "code",
   "execution_count": 2,
   "metadata": {},
   "outputs": [],
   "source": [
    "## YOUR CODE HERE\n",
    "## FEEL FREE TO ADD MULTIPLE CELLS PER SECTION"
   ]
  },
  {
   "cell_type": "markdown",
   "metadata": {},
   "source": [
    "## Pokemon Showdown Battle Stats"
   ]
  },
  {
   "cell_type": "markdown",
   "metadata": {},
   "source": [
    "The data given by Pokemon Showdown is several semi-structured JSON format files, where cleaning was needed to read the data into a usable format. \n",
    "\n",
    "*The cleaning process exampled below was repeated for all other JSON files.*"
   ]
  },
  {
   "cell_type": "markdown",
   "metadata": {},
   "source": [
    "The file given by Pokemon Showdown was downloaded and imported into the Notebook, and unnecessary data prior to our analysis was removed where data was NaN."
   ]
  },
  {
   "cell_type": "code",
   "execution_count": 8,
   "metadata": {},
   "outputs": [
    {
     "data": {
      "text/plain": [
       "Mr. Mime-Galar    {'Moves': {'': 32.0, 'healingwish': 226.0, 'bl...\n",
       "Eevee             {'Moves': {'': 197.0, 'rest': 7.0, 'mudslap': ...\n",
       "Torracat          {'Moves': {'': 1.0, 'firespin': 20.0, 'leechli...\n",
       "Poliwrath         {'Moves': {'': 58.0, 'counter': 48.0, 'liquida...\n",
       "Emolga            {'Moves': {'': 2.0, 'eerieimpulse': 47.0, 'ris...\n",
       "                                        ...                        \n",
       "Shedinja          {'Moves': {'': 578.0, 'absorb': 11.0, 'falsesw...\n",
       "Wishiwashi        {'Moves': {'': 67.0, 'liquidation': 393.0, 'be...\n",
       "Sneasel           {'Moves': {'counter': 3.0, 'beatup': 9.0, 'bli...\n",
       "Hitmontop         {'Moves': {'': 208.0, 'detect': 89.0, 'quickgu...\n",
       "Kingdra           {'Moves': {'': 57.0, 'icywind': 32.0, 'liquida...\n",
       "Name: data, Length: 440, dtype: object"
      ]
     },
     "execution_count": 8,
     "metadata": {},
     "output_type": "execute_result"
    }
   ],
   "source": [
    "raw = pd.read_json(\"Pokemon Usage/September/raw/gen8/gen8ou-0.json\")\n",
    "df = raw[raw['data'].notna()]['data']\n",
    "df"
   ]
  },
  {
   "cell_type": "markdown",
   "metadata": {},
   "source": [
    "In the dataset, each Pokemon are described with the following variables:"
   ]
  },
  {
   "cell_type": "code",
   "execution_count": 11,
   "metadata": {},
   "outputs": [
    {
     "data": {
      "text/plain": [
       "dict_keys(['Moves', 'Checks and Counters', 'Abilities', 'Teammates', 'usage', 'Items', 'Raw count', 'Spreads', 'Happiness', 'Viability Ceiling'])"
      ]
     },
     "execution_count": 11,
     "metadata": {},
     "output_type": "execute_result"
    }
   ],
   "source": [
    "df[0].keys()"
   ]
  },
  {
   "cell_type": "markdown",
   "metadata": {},
   "source": [
    "To narrow down the data desired for our analysis, the following criteria were used to filter out the data:\n",
    "- Pokemon with at least 2% usage\n",
    "- Each Pokemon's Top 6 Moves"
   ]
  },
  {
   "cell_type": "code",
   "execution_count": 16,
   "metadata": {},
   "outputs": [
    {
     "data": {
      "text/html": [
       "<div>\n",
       "<style scoped>\n",
       "    .dataframe tbody tr th:only-of-type {\n",
       "        vertical-align: middle;\n",
       "    }\n",
       "\n",
       "    .dataframe tbody tr th {\n",
       "        vertical-align: top;\n",
       "    }\n",
       "\n",
       "    .dataframe thead th {\n",
       "        text-align: right;\n",
       "    }\n",
       "</style>\n",
       "<table border=\"1\" class=\"dataframe\">\n",
       "  <thead>\n",
       "    <tr style=\"text-align: right;\">\n",
       "      <th></th>\n",
       "      <th>Moves</th>\n",
       "      <th>Usage</th>\n",
       "    </tr>\n",
       "  </thead>\n",
       "  <tbody>\n",
       "    <tr>\n",
       "      <th>Landorus-Therian</th>\n",
       "      <td>[earthquake, uturn, stealthrock, knockoff, tox...</td>\n",
       "      <td>0.304108</td>\n",
       "    </tr>\n",
       "    <tr>\n",
       "      <th>Blissey</th>\n",
       "      <td>[softboiled, seismictoss, toxic, teleport, thu...</td>\n",
       "      <td>0.084829</td>\n",
       "    </tr>\n",
       "    <tr>\n",
       "      <th>Slowbro</th>\n",
       "      <td>[scald, teleport, slackoff, futuresight, icebe...</td>\n",
       "      <td>0.057747</td>\n",
       "    </tr>\n",
       "    <tr>\n",
       "      <th>Crawdaunt</th>\n",
       "      <td>[aquajet, knockoff, crabhammer, swordsdance, c...</td>\n",
       "      <td>0.028303</td>\n",
       "    </tr>\n",
       "    <tr>\n",
       "      <th>Urshifu-Rapid-Strike</th>\n",
       "      <td>[surgingstrikes, closecombat, aquajet, uturn, ...</td>\n",
       "      <td>0.129478</td>\n",
       "    </tr>\n",
       "    <tr>\n",
       "      <th>...</th>\n",
       "      <td>...</td>\n",
       "      <td>...</td>\n",
       "    </tr>\n",
       "    <tr>\n",
       "      <th>Arctozolt</th>\n",
       "      <td>[boltbeak, lowkick, blizzard, substitute, free...</td>\n",
       "      <td>0.026643</td>\n",
       "    </tr>\n",
       "    <tr>\n",
       "      <th>Melmetal</th>\n",
       "      <td>[doubleironbash, thunderpunch, earthquake, ice...</td>\n",
       "      <td>0.092703</td>\n",
       "    </tr>\n",
       "    <tr>\n",
       "      <th>Mew</th>\n",
       "      <td>[taunt, stealthrock, spikes, icebeam, roost, s...</td>\n",
       "      <td>0.060138</td>\n",
       "    </tr>\n",
       "    <tr>\n",
       "      <th>Hippowdon</th>\n",
       "      <td>[earthquake, slackoff, stealthrock, toxic, whi...</td>\n",
       "      <td>0.042812</td>\n",
       "    </tr>\n",
       "    <tr>\n",
       "      <th>Pelipper</th>\n",
       "      <td>[uturn, roost, defog, scald, hurricane, weathe...</td>\n",
       "      <td>0.058064</td>\n",
       "    </tr>\n",
       "  </tbody>\n",
       "</table>\n",
       "<p>66 rows × 2 columns</p>\n",
       "</div>"
      ],
      "text/plain": [
       "                                                                  Moves  \\\n",
       "Landorus-Therian      [earthquake, uturn, stealthrock, knockoff, tox...   \n",
       "Blissey               [softboiled, seismictoss, toxic, teleport, thu...   \n",
       "Slowbro               [scald, teleport, slackoff, futuresight, icebe...   \n",
       "Crawdaunt             [aquajet, knockoff, crabhammer, swordsdance, c...   \n",
       "Urshifu-Rapid-Strike  [surgingstrikes, closecombat, aquajet, uturn, ...   \n",
       "...                                                                 ...   \n",
       "Arctozolt             [boltbeak, lowkick, blizzard, substitute, free...   \n",
       "Melmetal              [doubleironbash, thunderpunch, earthquake, ice...   \n",
       "Mew                   [taunt, stealthrock, spikes, icebeam, roost, s...   \n",
       "Hippowdon             [earthquake, slackoff, stealthrock, toxic, whi...   \n",
       "Pelipper              [uturn, roost, defog, scald, hurricane, weathe...   \n",
       "\n",
       "                         Usage  \n",
       "Landorus-Therian      0.304108  \n",
       "Blissey               0.084829  \n",
       "Slowbro               0.057747  \n",
       "Crawdaunt             0.028303  \n",
       "Urshifu-Rapid-Strike  0.129478  \n",
       "...                        ...  \n",
       "Arctozolt             0.026643  \n",
       "Melmetal              0.092703  \n",
       "Mew                   0.060138  \n",
       "Hippowdon             0.042812  \n",
       "Pelipper              0.058064  \n",
       "\n",
       "[66 rows x 2 columns]"
      ]
     },
     "execution_count": 16,
     "metadata": {},
     "output_type": "execute_result"
    }
   ],
   "source": [
    "### Dictionary to make the DataFrame\n",
    "top_mons = {}\n",
    "\n",
    "### Saves the Pokemon as Indexes\n",
    "ix = list(df.index)\n",
    "\n",
    "### For each Observation\n",
    "for row in range(len(df)):\n",
    "\n",
    "    ### At least 2% Usage\n",
    "    if df[row]['usage'] >= .02:\n",
    "\n",
    "        ### Pokemon Name\n",
    "        mon = ix[row]\n",
    "\n",
    "        ### Finds the Top 6 Moves\n",
    "        top_6 = list(dict(sorted(df[row]['Moves'].items(), key=lambda item: item[1], reverse=True)))[:6]\n",
    "        \n",
    "        ### Saves info to dictionary\n",
    "        top_mons[mon] = [top_6, df[row]['usage']]\n",
    "\n",
    "### Output DataFrame\n",
    "cleaned = pd.DataFrame.from_dict(top_mons, orient = 'index').rename(columns = {0:\"Moves\", 1:\"Usage\"})\n",
    "cleaned"
   ]
  },
  {
   "cell_type": "markdown",
   "metadata": {},
   "source": [
    "Additionally, each dataframe includes 2 more columns identifying which JSON file the data originated from, denoted by **Gen**, **Format**, and **Rating**, given in the first few rows of the JSON file."
   ]
  },
  {
   "cell_type": "code",
   "execution_count": 18,
   "metadata": {},
   "outputs": [
    {
     "data": {
      "text/html": [
       "<div>\n",
       "<style scoped>\n",
       "    .dataframe tbody tr th:only-of-type {\n",
       "        vertical-align: middle;\n",
       "    }\n",
       "\n",
       "    .dataframe tbody tr th {\n",
       "        vertical-align: top;\n",
       "    }\n",
       "\n",
       "    .dataframe thead th {\n",
       "        text-align: right;\n",
       "    }\n",
       "</style>\n",
       "<table border=\"1\" class=\"dataframe\">\n",
       "  <thead>\n",
       "    <tr style=\"text-align: right;\">\n",
       "      <th></th>\n",
       "      <th>Moves</th>\n",
       "      <th>Usage</th>\n",
       "      <th>Gen</th>\n",
       "      <th>Format</th>\n",
       "      <th>Min Rating</th>\n",
       "    </tr>\n",
       "  </thead>\n",
       "  <tbody>\n",
       "    <tr>\n",
       "      <th>Landorus-Therian</th>\n",
       "      <td>[earthquake, uturn, stealthrock, knockoff, tox...</td>\n",
       "      <td>0.304108</td>\n",
       "      <td>8</td>\n",
       "      <td>ou</td>\n",
       "      <td>0</td>\n",
       "    </tr>\n",
       "    <tr>\n",
       "      <th>Blissey</th>\n",
       "      <td>[softboiled, seismictoss, toxic, teleport, thu...</td>\n",
       "      <td>0.084829</td>\n",
       "      <td>8</td>\n",
       "      <td>ou</td>\n",
       "      <td>0</td>\n",
       "    </tr>\n",
       "    <tr>\n",
       "      <th>Slowbro</th>\n",
       "      <td>[scald, teleport, slackoff, futuresight, icebe...</td>\n",
       "      <td>0.057747</td>\n",
       "      <td>8</td>\n",
       "      <td>ou</td>\n",
       "      <td>0</td>\n",
       "    </tr>\n",
       "    <tr>\n",
       "      <th>Crawdaunt</th>\n",
       "      <td>[aquajet, knockoff, crabhammer, swordsdance, c...</td>\n",
       "      <td>0.028303</td>\n",
       "      <td>8</td>\n",
       "      <td>ou</td>\n",
       "      <td>0</td>\n",
       "    </tr>\n",
       "    <tr>\n",
       "      <th>Urshifu-Rapid-Strike</th>\n",
       "      <td>[surgingstrikes, closecombat, aquajet, uturn, ...</td>\n",
       "      <td>0.129478</td>\n",
       "      <td>8</td>\n",
       "      <td>ou</td>\n",
       "      <td>0</td>\n",
       "    </tr>\n",
       "    <tr>\n",
       "      <th>...</th>\n",
       "      <td>...</td>\n",
       "      <td>...</td>\n",
       "      <td>...</td>\n",
       "      <td>...</td>\n",
       "      <td>...</td>\n",
       "    </tr>\n",
       "    <tr>\n",
       "      <th>Arctozolt</th>\n",
       "      <td>[boltbeak, lowkick, blizzard, substitute, free...</td>\n",
       "      <td>0.026643</td>\n",
       "      <td>8</td>\n",
       "      <td>ou</td>\n",
       "      <td>0</td>\n",
       "    </tr>\n",
       "    <tr>\n",
       "      <th>Melmetal</th>\n",
       "      <td>[doubleironbash, thunderpunch, earthquake, ice...</td>\n",
       "      <td>0.092703</td>\n",
       "      <td>8</td>\n",
       "      <td>ou</td>\n",
       "      <td>0</td>\n",
       "    </tr>\n",
       "    <tr>\n",
       "      <th>Mew</th>\n",
       "      <td>[taunt, stealthrock, spikes, icebeam, roost, s...</td>\n",
       "      <td>0.060138</td>\n",
       "      <td>8</td>\n",
       "      <td>ou</td>\n",
       "      <td>0</td>\n",
       "    </tr>\n",
       "    <tr>\n",
       "      <th>Hippowdon</th>\n",
       "      <td>[earthquake, slackoff, stealthrock, toxic, whi...</td>\n",
       "      <td>0.042812</td>\n",
       "      <td>8</td>\n",
       "      <td>ou</td>\n",
       "      <td>0</td>\n",
       "    </tr>\n",
       "    <tr>\n",
       "      <th>Pelipper</th>\n",
       "      <td>[uturn, roost, defog, scald, hurricane, weathe...</td>\n",
       "      <td>0.058064</td>\n",
       "      <td>8</td>\n",
       "      <td>ou</td>\n",
       "      <td>0</td>\n",
       "    </tr>\n",
       "  </tbody>\n",
       "</table>\n",
       "<p>66 rows × 5 columns</p>\n",
       "</div>"
      ],
      "text/plain": [
       "                                                                  Moves  \\\n",
       "Landorus-Therian      [earthquake, uturn, stealthrock, knockoff, tox...   \n",
       "Blissey               [softboiled, seismictoss, toxic, teleport, thu...   \n",
       "Slowbro               [scald, teleport, slackoff, futuresight, icebe...   \n",
       "Crawdaunt             [aquajet, knockoff, crabhammer, swordsdance, c...   \n",
       "Urshifu-Rapid-Strike  [surgingstrikes, closecombat, aquajet, uturn, ...   \n",
       "...                                                                 ...   \n",
       "Arctozolt             [boltbeak, lowkick, blizzard, substitute, free...   \n",
       "Melmetal              [doubleironbash, thunderpunch, earthquake, ice...   \n",
       "Mew                   [taunt, stealthrock, spikes, icebeam, roost, s...   \n",
       "Hippowdon             [earthquake, slackoff, stealthrock, toxic, whi...   \n",
       "Pelipper              [uturn, roost, defog, scald, hurricane, weathe...   \n",
       "\n",
       "                         Usage Gen Format  Min Rating  \n",
       "Landorus-Therian      0.304108   8     ou           0  \n",
       "Blissey               0.084829   8     ou           0  \n",
       "Slowbro               0.057747   8     ou           0  \n",
       "Crawdaunt             0.028303   8     ou           0  \n",
       "Urshifu-Rapid-Strike  0.129478   8     ou           0  \n",
       "...                        ...  ..    ...         ...  \n",
       "Arctozolt             0.026643   8     ou           0  \n",
       "Melmetal              0.092703   8     ou           0  \n",
       "Mew                   0.060138   8     ou           0  \n",
       "Hippowdon             0.042812   8     ou           0  \n",
       "Pelipper              0.058064   8     ou           0  \n",
       "\n",
       "[66 rows x 5 columns]"
      ]
     },
     "execution_count": 18,
     "metadata": {},
     "output_type": "execute_result"
    }
   ],
   "source": [
    "metagame = raw.loc['metagame'][0]\n",
    "gen = metagame[3]\n",
    "format_name = metagame[4:]\n",
    "rating = raw.loc[\"cutoff deviation\"][0]\n",
    "cleaned[\"Gen\"] = gen\n",
    "cleaned[\"Format\"] = format_name\n",
    "cleaned[\"Min Rating\"] = rating\n",
    "cleaned"
   ]
  },
  {
   "cell_type": "code",
   "execution_count": null,
   "metadata": {},
   "outputs": [],
   "source": []
  }
 ],
 "metadata": {
  "interpreter": {
   "hash": "9e57da381150c32bc445a617f5277ea2102eb0088f85f33ec3bf81d0c63bfe54"
  },
  "kernelspec": {
   "display_name": "Python 3.8.8 64-bit ('base': conda)",
   "name": "python3"
  },
  "language_info": {
   "codemirror_mode": {
    "name": "ipython",
    "version": 3
   },
   "file_extension": ".py",
   "mimetype": "text/x-python",
   "name": "python",
   "nbconvert_exporter": "python",
   "pygments_lexer": "ipython3",
   "version": "3.8.8"
  }
 },
 "nbformat": 4,
 "nbformat_minor": 2
}
