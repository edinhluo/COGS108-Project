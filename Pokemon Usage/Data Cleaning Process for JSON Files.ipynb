{
 "cells": [
  {
   "cell_type": "code",
   "execution_count": 1,
   "metadata": {},
   "outputs": [],
   "source": [
    "import numpy as np\n",
    "import pandas as pd\n",
    "import seaborn as sns \n",
    "import matplotlib.pyplot as plt\n",
    "import clean"
   ]
  },
  {
   "cell_type": "code",
   "execution_count": 5,
   "metadata": {},
   "outputs": [
    {
     "data": {
      "text/html": [
       "<div>\n",
       "<style scoped>\n",
       "    .dataframe tbody tr th:only-of-type {\n",
       "        vertical-align: middle;\n",
       "    }\n",
       "\n",
       "    .dataframe tbody tr th {\n",
       "        vertical-align: top;\n",
       "    }\n",
       "\n",
       "    .dataframe thead th {\n",
       "        text-align: right;\n",
       "    }\n",
       "</style>\n",
       "<table border=\"1\" class=\"dataframe\">\n",
       "  <thead>\n",
       "    <tr style=\"text-align: right;\">\n",
       "      <th></th>\n",
       "      <th>Moves</th>\n",
       "      <th>Usage</th>\n",
       "      <th>Gen</th>\n",
       "      <th>Format</th>\n",
       "    </tr>\n",
       "  </thead>\n",
       "  <tbody>\n",
       "    <tr>\n",
       "      <th>Landorus-Therian</th>\n",
       "      <td>[earthquake, uturn, stealthrock, knockoff, tox...</td>\n",
       "      <td>0.304108</td>\n",
       "      <td>8</td>\n",
       "      <td>OU</td>\n",
       "    </tr>\n",
       "    <tr>\n",
       "      <th>Blissey</th>\n",
       "      <td>[softboiled, seismictoss, toxic, teleport, thu...</td>\n",
       "      <td>0.084829</td>\n",
       "      <td>8</td>\n",
       "      <td>OU</td>\n",
       "    </tr>\n",
       "    <tr>\n",
       "      <th>Slowbro</th>\n",
       "      <td>[scald, teleport, slackoff, futuresight, icebe...</td>\n",
       "      <td>0.057747</td>\n",
       "      <td>8</td>\n",
       "      <td>OU</td>\n",
       "    </tr>\n",
       "    <tr>\n",
       "      <th>Crawdaunt</th>\n",
       "      <td>[aquajet, knockoff, crabhammer, swordsdance, c...</td>\n",
       "      <td>0.028303</td>\n",
       "      <td>8</td>\n",
       "      <td>OU</td>\n",
       "    </tr>\n",
       "    <tr>\n",
       "      <th>Urshifu-Rapid-Strike</th>\n",
       "      <td>[surgingstrikes, closecombat, aquajet, uturn, ...</td>\n",
       "      <td>0.129478</td>\n",
       "      <td>8</td>\n",
       "      <td>OU</td>\n",
       "    </tr>\n",
       "    <tr>\n",
       "      <th>...</th>\n",
       "      <td>...</td>\n",
       "      <td>...</td>\n",
       "      <td>...</td>\n",
       "      <td>...</td>\n",
       "    </tr>\n",
       "    <tr>\n",
       "      <th>Arctozolt</th>\n",
       "      <td>[boltbeak, lowkick, blizzard, substitute, free...</td>\n",
       "      <td>0.026643</td>\n",
       "      <td>8</td>\n",
       "      <td>OU</td>\n",
       "    </tr>\n",
       "    <tr>\n",
       "      <th>Melmetal</th>\n",
       "      <td>[doubleironbash, thunderpunch, earthquake, ice...</td>\n",
       "      <td>0.092703</td>\n",
       "      <td>8</td>\n",
       "      <td>OU</td>\n",
       "    </tr>\n",
       "    <tr>\n",
       "      <th>Mew</th>\n",
       "      <td>[taunt, stealthrock, spikes, icebeam, roost, s...</td>\n",
       "      <td>0.060138</td>\n",
       "      <td>8</td>\n",
       "      <td>OU</td>\n",
       "    </tr>\n",
       "    <tr>\n",
       "      <th>Hippowdon</th>\n",
       "      <td>[earthquake, slackoff, stealthrock, toxic, whi...</td>\n",
       "      <td>0.042812</td>\n",
       "      <td>8</td>\n",
       "      <td>OU</td>\n",
       "    </tr>\n",
       "    <tr>\n",
       "      <th>Pelipper</th>\n",
       "      <td>[uturn, roost, defog, scald, hurricane, weathe...</td>\n",
       "      <td>0.058064</td>\n",
       "      <td>8</td>\n",
       "      <td>OU</td>\n",
       "    </tr>\n",
       "  </tbody>\n",
       "</table>\n",
       "<p>66 rows × 4 columns</p>\n",
       "</div>"
      ],
      "text/plain": [
       "                                                                  Moves  \\\n",
       "Landorus-Therian      [earthquake, uturn, stealthrock, knockoff, tox...   \n",
       "Blissey               [softboiled, seismictoss, toxic, teleport, thu...   \n",
       "Slowbro               [scald, teleport, slackoff, futuresight, icebe...   \n",
       "Crawdaunt             [aquajet, knockoff, crabhammer, swordsdance, c...   \n",
       "Urshifu-Rapid-Strike  [surgingstrikes, closecombat, aquajet, uturn, ...   \n",
       "...                                                                 ...   \n",
       "Arctozolt             [boltbeak, lowkick, blizzard, substitute, free...   \n",
       "Melmetal              [doubleironbash, thunderpunch, earthquake, ice...   \n",
       "Mew                   [taunt, stealthrock, spikes, icebeam, roost, s...   \n",
       "Hippowdon             [earthquake, slackoff, stealthrock, toxic, whi...   \n",
       "Pelipper              [uturn, roost, defog, scald, hurricane, weathe...   \n",
       "\n",
       "                         Usage  Gen Format  \n",
       "Landorus-Therian      0.304108    8     OU  \n",
       "Blissey               0.084829    8     OU  \n",
       "Slowbro               0.057747    8     OU  \n",
       "Crawdaunt             0.028303    8     OU  \n",
       "Urshifu-Rapid-Strike  0.129478    8     OU  \n",
       "...                        ...  ...    ...  \n",
       "Arctozolt             0.026643    8     OU  \n",
       "Melmetal              0.092703    8     OU  \n",
       "Mew                   0.060138    8     OU  \n",
       "Hippowdon             0.042812    8     OU  \n",
       "Pelipper              0.058064    8     OU  \n",
       "\n",
       "[66 rows x 4 columns]"
      ]
     },
     "execution_count": 5,
     "metadata": {},
     "output_type": "execute_result"
    }
   ],
   "source": [
    "### This is the function you should be running\n",
    "### Process of Unpacking and Cleaning is Below\n",
    "df = clean.clean_df(\"gen8ou-0.json\", 8, \"OU\")\n",
    "df"
   ]
  },
  {
   "cell_type": "code",
   "execution_count": 3,
   "metadata": {},
   "outputs": [
    {
     "data": {
      "text/html": [
       "<div>\n",
       "<style scoped>\n",
       "    .dataframe tbody tr th:only-of-type {\n",
       "        vertical-align: middle;\n",
       "    }\n",
       "\n",
       "    .dataframe tbody tr th {\n",
       "        vertical-align: top;\n",
       "    }\n",
       "\n",
       "    .dataframe thead th {\n",
       "        text-align: right;\n",
       "    }\n",
       "</style>\n",
       "<table border=\"1\" class=\"dataframe\">\n",
       "  <thead>\n",
       "    <tr style=\"text-align: right;\">\n",
       "      <th></th>\n",
       "      <th>info</th>\n",
       "      <th>data</th>\n",
       "    </tr>\n",
       "  </thead>\n",
       "  <tbody>\n",
       "    <tr>\n",
       "      <th>team type</th>\n",
       "      <td>None</td>\n",
       "      <td>NaN</td>\n",
       "    </tr>\n",
       "    <tr>\n",
       "      <th>cutoff</th>\n",
       "      <td>0.0</td>\n",
       "      <td>NaN</td>\n",
       "    </tr>\n",
       "    <tr>\n",
       "      <th>cutoff deviation</th>\n",
       "      <td>0</td>\n",
       "      <td>NaN</td>\n",
       "    </tr>\n",
       "    <tr>\n",
       "      <th>metagame</th>\n",
       "      <td>gen8ou</td>\n",
       "      <td>NaN</td>\n",
       "    </tr>\n",
       "    <tr>\n",
       "      <th>number of battles</th>\n",
       "      <td>1467367</td>\n",
       "      <td>NaN</td>\n",
       "    </tr>\n",
       "    <tr>\n",
       "      <th>...</th>\n",
       "      <td>...</td>\n",
       "      <td>...</td>\n",
       "    </tr>\n",
       "    <tr>\n",
       "      <th>Shedinja</th>\n",
       "      <td>NaN</td>\n",
       "      <td>{'Moves': {'': 578.0, 'absorb': 11.0, 'falsesw...</td>\n",
       "    </tr>\n",
       "    <tr>\n",
       "      <th>Wishiwashi</th>\n",
       "      <td>NaN</td>\n",
       "      <td>{'Moves': {'': 67.0, 'liquidation': 393.0, 'be...</td>\n",
       "    </tr>\n",
       "    <tr>\n",
       "      <th>Sneasel</th>\n",
       "      <td>NaN</td>\n",
       "      <td>{'Moves': {'counter': 3.0, 'beatup': 9.0, 'bli...</td>\n",
       "    </tr>\n",
       "    <tr>\n",
       "      <th>Hitmontop</th>\n",
       "      <td>NaN</td>\n",
       "      <td>{'Moves': {'': 208.0, 'detect': 89.0, 'quickgu...</td>\n",
       "    </tr>\n",
       "    <tr>\n",
       "      <th>Kingdra</th>\n",
       "      <td>NaN</td>\n",
       "      <td>{'Moves': {'': 57.0, 'icywind': 32.0, 'liquida...</td>\n",
       "    </tr>\n",
       "  </tbody>\n",
       "</table>\n",
       "<p>445 rows × 2 columns</p>\n",
       "</div>"
      ],
      "text/plain": [
       "                      info                                               data\n",
       "team type             None                                                NaN\n",
       "cutoff                 0.0                                                NaN\n",
       "cutoff deviation         0                                                NaN\n",
       "metagame            gen8ou                                                NaN\n",
       "number of battles  1467367                                                NaN\n",
       "...                    ...                                                ...\n",
       "Shedinja               NaN  {'Moves': {'': 578.0, 'absorb': 11.0, 'falsesw...\n",
       "Wishiwashi             NaN  {'Moves': {'': 67.0, 'liquidation': 393.0, 'be...\n",
       "Sneasel                NaN  {'Moves': {'counter': 3.0, 'beatup': 9.0, 'bli...\n",
       "Hitmontop              NaN  {'Moves': {'': 208.0, 'detect': 89.0, 'quickgu...\n",
       "Kingdra                NaN  {'Moves': {'': 57.0, 'icywind': 32.0, 'liquida...\n",
       "\n",
       "[445 rows x 2 columns]"
      ]
     },
     "execution_count": 3,
     "metadata": {},
     "output_type": "execute_result"
    }
   ],
   "source": [
    "### Reading the JSON file, JSON File must be in the same folder as your Notebook\n",
    "raw = pd.read_json(\"gen8ou-0.json\")\n",
    "df = raw[raw['data'].notna()]['data']\n",
    "df.head()"
   ]
  },
  {
   "cell_type": "code",
   "execution_count": 13,
   "metadata": {},
   "outputs": [
    {
     "data": {
      "text/plain": [
       "dict_keys(['', 'healingwish', 'blizzard', 'teeterdance', 'foulplay', 'focuspunch', 'hail', 'expandingforce', 'avalanche', 'iciclespear', 'grassknot', 'fakeout', 'icebeam', 'storedpower', 'attract', 'freezedry', 'substitute', 'trick', 'copycat', 'iceshard', 'stompingtantrum', 'hypnosis', 'calmmind', 'psychic', 'thunderwave', 'psyshock', 'shadowball', 'toxic', 'energyball', 'skillswap', 'suckerpunch', 'dazzlinggleam', 'icywind', 'icepunch', 'thunderbolt', 'zenheadbutt', 'trickroom', 'taunt', 'mirrorcoat', 'nastyplot', 'psybeam', 'reflect', 'raindance', 'bodyslam', 'rest', 'magiccoat', 'thunder', 'lightscreen', 'infestation', 'powersplit', 'protect', 'confuseray', 'guardswap', 'metronome', 'futuresight', 'focusblast', 'irondefense', 'drainpunch', 'uproar', 'chargebeam', 'roleplay', 'rapidspin', 'tripleaxel', 'encore'])"
      ]
     },
     "execution_count": 13,
     "metadata": {},
     "output_type": "execute_result"
    }
   ],
   "source": [
    "### Extracting Moves\n",
    "mime_moves = df[0]['Moves']\n",
    "mime_moves.keys()"
   ]
  },
  {
   "cell_type": "code",
   "execution_count": 14,
   "metadata": {},
   "outputs": [
    {
     "data": {
      "text/plain": [
       "[32.0, 226.0, 48.0, 4.0, 1.0]"
      ]
     },
     "execution_count": 14,
     "metadata": {},
     "output_type": "execute_result"
    }
   ],
   "source": [
    "### Extracting Move Counts\n",
    "count = list(mime_moves.values())\n",
    "count[:5]"
   ]
  },
  {
   "cell_type": "code",
   "execution_count": 15,
   "metadata": {},
   "outputs": [
    {
     "data": {
      "text/plain": [
       "<AxesSubplot:ylabel='Count'>"
      ]
     },
     "execution_count": 15,
     "metadata": {},
     "output_type": "execute_result"
    },
    {
     "data": {
      "image/png": "[encoded data removed]",
      "text/plain": [
       "<Figure size 432x288 with 1 Axes>"
      ]
     },
     "metadata": {
      "needs_background": "light"
     },
     "output_type": "display_data"
    }
   ],
   "source": [
    "### Distribution of Move Counts\n",
    "sns.histplot(count)"
   ]
  },
  {
   "cell_type": "code",
   "execution_count": 16,
   "metadata": {},
   "outputs": [
    {
     "data": {
      "text/plain": [
       "6"
      ]
     },
     "execution_count": 16,
     "metadata": {},
     "output_type": "execute_result"
    }
   ],
   "source": [
    "### Finds how many Moves are above 200 count\n",
    "sum(pd.Series(count) > 200)"
   ]
  },
  {
   "cell_type": "code",
   "execution_count": 17,
   "metadata": {},
   "outputs": [
    {
     "data": {
      "text/plain": [
       "array([  1.  ,   5.75,  28.5 , 103.  , 884.  ])"
      ]
     },
     "execution_count": 17,
     "metadata": {},
     "output_type": "execute_result"
    }
   ],
   "source": [
    "### Alternatively, divide move counts by percentiles, where 25% of moves are below 5.75 and 25% of moves are above 103 \n",
    "percent_moves = np.percentile(count, [0,25,50,75,100])\n",
    "percent_moves"
   ]
  },
  {
   "cell_type": "code",
   "execution_count": 19,
   "metadata": {},
   "outputs": [
    {
     "data": {
      "text/plain": [
       "['freezedry', 'rapidspin', 'psychic', 'healingwish', 'nastyplot', 'icebeam']"
      ]
     },
     "execution_count": 19,
     "metadata": {},
     "output_type": "execute_result"
    }
   ],
   "source": [
    "### Let's Extract Top 6 Moves\n",
    "top_moves = {}\n",
    "for key in mime_moves:\n",
    "    if mime_moves[key] > percent_moves[3]:\n",
    "        top_moves[key] = mime_moves[key]\n",
    "\n",
    "top_6 = list(dict(sorted(top_moves.items(), key=lambda item: item[1], reverse=True)))[:6]\n",
    "top_6\n"
   ]
  },
  {
   "cell_type": "code",
   "execution_count": 23,
   "metadata": {},
   "outputs": [
    {
     "data": {
      "text/plain": [
       "dict_keys(['Landorus-Therian', 'Blissey', 'Slowbro', 'Crawdaunt', 'Urshifu-Rapid-Strike', 'Tapu Koko', 'Torkoal', 'Tapu Fini', 'Rillaboom', 'Aegislash', 'Clefable', 'Latios', 'Hatterene', 'Azumarill', 'Jirachi', 'Hydreigon', 'Bisharp', 'Kyurem', 'Togekiss', 'Venusaur', 'Dracozolt', 'Blacephalon', 'Heatran', 'Regieleki', 'Slowking', 'Hawlucha', 'Grimmsnarl', 'Gengar', 'Tapu Lele', 'Weavile', 'Mandibuzz', 'Volcarona', 'Swampert', 'Blaziken', 'Ferrothorn', 'Zapdos-Galar', 'Toxapex', 'Magnezone', 'Mamoswine', 'Chansey', 'Buzzwole', 'Rotom-Wash', 'Dragonite', 'Dragapult', 'Excadrill', 'Zeraora', 'Corviknight', 'Volcanion', 'Scizor', 'Nidoking', 'Zapdos', 'Tyranitar', 'Tornadus-Therian', 'Ninetales-Alola', 'Kartana', 'Slowking-Galar', 'Skarmory', 'Barraskewda', 'Garchomp', 'Victini', 'Cloyster', 'Arctozolt', 'Melmetal', 'Mew', 'Hippowdon', 'Pelipper'])"
      ]
     },
     "execution_count": 23,
     "metadata": {},
     "output_type": "execute_result"
    }
   ],
   "source": [
    "### Finding Pokemon above 2% Usage\n",
    "top_mons = {}\n",
    "ix = list(df.index)\n",
    "\n",
    "for row in range(len(df)):\n",
    "    if df[row]['usage'] >= .02:\n",
    "        top_mons[ix[row]] = df[row]\n",
    "    \n",
    "top_mons.keys()"
   ]
  },
  {
   "cell_type": "code",
   "execution_count": 24,
   "metadata": {},
   "outputs": [
    {
     "data": {
      "text/plain": [
       "[['earthquake', 'uturn', 'stealthrock', 'knockoff', 'toxic', 'defog'],\n",
       " 0.304108]"
      ]
     },
     "execution_count": 24,
     "metadata": {},
     "output_type": "execute_result"
    }
   ],
   "source": [
    "### Putting Everything Together\n",
    "to_df = {}\n",
    "for key in top_mons:\n",
    "    mon = top_mons[key]\n",
    "    top_6 = list(dict(sorted(mon['Moves'].items(), key=lambda item: item[1], reverse=True)))[:6]\n",
    "    to_df[key] = [top_6, top_mons[key]['usage']]\n",
    "    \n",
    "to_df['Landorus-Therian']"
   ]
  },
  {
   "cell_type": "code",
   "execution_count": 25,
   "metadata": {},
   "outputs": [
    {
     "data": {
      "text/html": [
       "<div>\n",
       "<style scoped>\n",
       "    .dataframe tbody tr th:only-of-type {\n",
       "        vertical-align: middle;\n",
       "    }\n",
       "\n",
       "    .dataframe tbody tr th {\n",
       "        vertical-align: top;\n",
       "    }\n",
       "\n",
       "    .dataframe thead th {\n",
       "        text-align: right;\n",
       "    }\n",
       "</style>\n",
       "<table border=\"1\" class=\"dataframe\">\n",
       "  <thead>\n",
       "    <tr style=\"text-align: right;\">\n",
       "      <th></th>\n",
       "      <th>0</th>\n",
       "      <th>1</th>\n",
       "    </tr>\n",
       "  </thead>\n",
       "  <tbody>\n",
       "    <tr>\n",
       "      <th>Landorus-Therian</th>\n",
       "      <td>[earthquake, uturn, stealthrock, knockoff, tox...</td>\n",
       "      <td>0.304108</td>\n",
       "    </tr>\n",
       "    <tr>\n",
       "      <th>Blissey</th>\n",
       "      <td>[softboiled, seismictoss, toxic, teleport, thu...</td>\n",
       "      <td>0.084829</td>\n",
       "    </tr>\n",
       "    <tr>\n",
       "      <th>Slowbro</th>\n",
       "      <td>[scald, teleport, slackoff, futuresight, icebe...</td>\n",
       "      <td>0.057747</td>\n",
       "    </tr>\n",
       "    <tr>\n",
       "      <th>Crawdaunt</th>\n",
       "      <td>[aquajet, knockoff, crabhammer, swordsdance, c...</td>\n",
       "      <td>0.028303</td>\n",
       "    </tr>\n",
       "    <tr>\n",
       "      <th>Urshifu-Rapid-Strike</th>\n",
       "      <td>[surgingstrikes, closecombat, aquajet, uturn, ...</td>\n",
       "      <td>0.129478</td>\n",
       "    </tr>\n",
       "    <tr>\n",
       "      <th>...</th>\n",
       "      <td>...</td>\n",
       "      <td>...</td>\n",
       "    </tr>\n",
       "    <tr>\n",
       "      <th>Arctozolt</th>\n",
       "      <td>[boltbeak, lowkick, blizzard, substitute, free...</td>\n",
       "      <td>0.026643</td>\n",
       "    </tr>\n",
       "    <tr>\n",
       "      <th>Melmetal</th>\n",
       "      <td>[doubleironbash, thunderpunch, earthquake, ice...</td>\n",
       "      <td>0.092703</td>\n",
       "    </tr>\n",
       "    <tr>\n",
       "      <th>Mew</th>\n",
       "      <td>[taunt, stealthrock, spikes, icebeam, roost, s...</td>\n",
       "      <td>0.060138</td>\n",
       "    </tr>\n",
       "    <tr>\n",
       "      <th>Hippowdon</th>\n",
       "      <td>[earthquake, slackoff, stealthrock, toxic, whi...</td>\n",
       "      <td>0.042812</td>\n",
       "    </tr>\n",
       "    <tr>\n",
       "      <th>Pelipper</th>\n",
       "      <td>[uturn, roost, defog, scald, hurricane, weathe...</td>\n",
       "      <td>0.058064</td>\n",
       "    </tr>\n",
       "  </tbody>\n",
       "</table>\n",
       "<p>66 rows × 2 columns</p>\n",
       "</div>"
      ],
      "text/plain": [
       "                                                                      0  \\\n",
       "Landorus-Therian      [earthquake, uturn, stealthrock, knockoff, tox...   \n",
       "Blissey               [softboiled, seismictoss, toxic, teleport, thu...   \n",
       "Slowbro               [scald, teleport, slackoff, futuresight, icebe...   \n",
       "Crawdaunt             [aquajet, knockoff, crabhammer, swordsdance, c...   \n",
       "Urshifu-Rapid-Strike  [surgingstrikes, closecombat, aquajet, uturn, ...   \n",
       "...                                                                 ...   \n",
       "Arctozolt             [boltbeak, lowkick, blizzard, substitute, free...   \n",
       "Melmetal              [doubleironbash, thunderpunch, earthquake, ice...   \n",
       "Mew                   [taunt, stealthrock, spikes, icebeam, roost, s...   \n",
       "Hippowdon             [earthquake, slackoff, stealthrock, toxic, whi...   \n",
       "Pelipper              [uturn, roost, defog, scald, hurricane, weathe...   \n",
       "\n",
       "                             1  \n",
       "Landorus-Therian      0.304108  \n",
       "Blissey               0.084829  \n",
       "Slowbro               0.057747  \n",
       "Crawdaunt             0.028303  \n",
       "Urshifu-Rapid-Strike  0.129478  \n",
       "...                        ...  \n",
       "Arctozolt             0.026643  \n",
       "Melmetal              0.092703  \n",
       "Mew                   0.060138  \n",
       "Hippowdon             0.042812  \n",
       "Pelipper              0.058064  \n",
       "\n",
       "[66 rows x 2 columns]"
      ]
     },
     "execution_count": 25,
     "metadata": {},
     "output_type": "execute_result"
    }
   ],
   "source": [
    "pd.DataFrame.from_dict(to_df, orient = 'index')"
   ]
  },
  {
   "cell_type": "code",
   "execution_count": null,
   "metadata": {},
   "outputs": [],
   "source": []
  }
 ],
 "metadata": {
  "interpreter": {
   "hash": "9e57da381150c32bc445a617f5277ea2102eb0088f85f33ec3bf81d0c63bfe54"
  },
  "kernelspec": {
   "display_name": "Python 3.8.8 64-bit ('base': conda)",
   "name": "python3"
  },
  "language_info": {
   "codemirror_mode": {
    "name": "ipython",
    "version": 3
   },
   "file_extension": ".py",
   "mimetype": "text/x-python",
   "name": "python",
   "nbconvert_exporter": "python",
   "pygments_lexer": "ipython3",
   "version": "3.8.8"
  },
  "orig_nbformat": 4
 },
 "nbformat": 4,
 "nbformat_minor": 2
}
