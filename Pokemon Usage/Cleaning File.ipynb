{
 "cells": [
  {
   "cell_type": "code",
   "execution_count": 2,
   "metadata": {},
   "outputs": [],
   "source": [
    "import clean\n",
    "import os"
   ]
  },
  {
   "cell_type": "code",
   "execution_count": 5,
   "metadata": {},
   "outputs": [
    {
     "name": "stdout",
     "output_type": "stream",
     "text": [
      "gen8ou-0.json\n",
      "gen8ou-1500.json\n",
      "gen8ou-1695.json\n",
      "gen8ou-1825.json\n",
      "gen8ubers-0.json\n",
      "gen8ubers-1500.json\n",
      "gen8ubers-1630.json\n",
      "gen8ubers-1760.json\n"
     ]
    }
   ],
   "source": [
    "# Change to Path to Folder holding raw data, add the \"/\" at the end\n",
    "path_to_dir = \"Oldest Data/raw/gen8/\"\n",
    "\n",
    "for filename in os.listdir(path_to_dir):\n",
    "\n",
    "    #Change first part to Path to Folder holding Clean Data, add the \"/\"\n",
    "    output = \"Oldest Data/data/gen8/\" + str(filename[:-5])\n",
    "    print(filename)\n",
    "    path_to_file = path_to_dir + str(filename)\n",
    "    df = clean.clean_df(path_to_file)\n",
    "    df.to_csv(output)"
   ]
  },
  {
   "cell_type": "code",
   "execution_count": null,
   "metadata": {},
   "outputs": [],
   "source": [
    "import pandas as pd \n"
   ]
  },
  {
   "cell_type": "code",
   "execution_count": null,
   "metadata": {},
   "outputs": [],
   "source": [
    "# Observation Count\n",
    "path_to_dir = \"September/data/\"\n",
    "obs = 0\n",
    "\n",
    "for filename in os.listdir(path_to_dir):\n",
    "    inner = path_to_dir + str(filename) + \"/\"\n",
    "    for inner_file in os.listdir(inner):\n",
    "        df_file = inner + str(inner_file)\n",
    "        df = pd.read_csv(df_file,index_col=0)\n",
    "        obs += df.shape[0]\n",
    "\n",
    "obs"
   ]
  },
  {
   "cell_type": "code",
   "execution_count": null,
   "metadata": {},
   "outputs": [],
   "source": [
    "path_to_dir = \"September/data/\"\n",
    "obs = 0\n",
    "df = None\n",
    "\n",
    "for filename in os.listdir(path_to_dir):\n",
    "    inner = path_to_dir + str(filename) + \"/\"\n",
    "    for inner_file in os.listdir(inner):\n",
    "        df_file = inner + str(inner_file)\n",
    "        if df is None:\n",
    "            df = pd.read_csv(df_file, index_col=0).reset_index()\n",
    "        else:\n",
    "            temp_df = pd.read_csv(df_file, index_col=0).reset_index()\n",
    "            df = df.merge(temp_df, how = \"outer\")\n"
   ]
  },
  {
   "cell_type": "code",
   "execution_count": null,
   "metadata": {},
   "outputs": [],
   "source": [
    "len(df['index'].unique())> 1"
   ]
  },
  {
   "cell_type": "code",
   "execution_count": null,
   "metadata": {},
   "outputs": [],
   "source": [
    "sum((df[\"index\"].value_counts() > 1) * (df[\"index\"].value_counts()))"
   ]
  },
  {
   "cell_type": "code",
   "execution_count": null,
   "metadata": {},
   "outputs": [],
   "source": [
    "df[df.duplicated(keep=False, subset=\"index\")]"
   ]
  },
  {
   "cell_type": "code",
   "execution_count": null,
   "metadata": {},
   "outputs": [],
   "source": []
  }
 ],
 "metadata": {
  "interpreter": {
   "hash": "fbf9dfb5ba2e4cf022a0b0b00189f84814d86da366805cdd532c2064d19b50f6"
  },
  "kernelspec": {
   "display_name": "Python 3.8.10 64-bit",
   "name": "python3"
  },
  "language_info": {
   "codemirror_mode": {
    "name": "ipython",
    "version": 3
   },
   "file_extension": ".py",
   "mimetype": "text/x-python",
   "name": "python",
   "nbconvert_exporter": "python",
   "pygments_lexer": "ipython3",
   "version": "3.8.10"
  },
  "orig_nbformat": 4
 },
 "nbformat": 4,
 "nbformat_minor": 2
}
