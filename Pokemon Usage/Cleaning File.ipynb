{
 "cells": [
  {
   "cell_type": "code",
   "execution_count": 2,
   "metadata": {},
   "outputs": [],
   "source": [
    "import clean\n",
    "import os"
   ]
  },
  {
   "cell_type": "code",
   "execution_count": 24,
   "metadata": {},
   "outputs": [],
   "source": [
    "# Change to Path to Folder holding raw data, add the \"/\" at the end\n",
    "path_to_dir = \"September/raw/gen4/\"\n",
    "\n",
    "for filename in os.listdir(path_to_dir):\n",
    "\n",
    "    #Change first part to Path to Folder holding Clean Data, add the \"/\"\n",
    "    output = \"September/data/gen4/\" + str(filename[:-5])\n",
    "    path_to_file = path_to_dir + str(filename)\n",
    "    df = clean.clean_df(path_to_file)\n",
    "    df.to_csv(output)"
   ]
  },
  {
   "cell_type": "code",
   "execution_count": 2,
   "metadata": {},
   "outputs": [],
   "source": [
    "import pandas as pd \n"
   ]
  },
  {
   "cell_type": "code",
   "execution_count": 3,
   "metadata": {},
   "outputs": [
    {
     "data": {
      "text/plain": [
       "2702"
      ]
     },
     "execution_count": 3,
     "metadata": {},
     "output_type": "execute_result"
    }
   ],
   "source": [
    "# Observation Count\n",
    "path_to_dir = \"September/data/\"\n",
    "obs = 0\n",
    "\n",
    "for filename in os.listdir(path_to_dir):\n",
    "    inner = path_to_dir + str(filename) + \"/\"\n",
    "    for inner_file in os.listdir(inner):\n",
    "        df_file = inner + str(inner_file)\n",
    "        df = pd.read_csv(df_file,index_col=0)\n",
    "        obs += df.shape[0]\n",
    "\n",
    "obs"
   ]
  },
  {
   "cell_type": "code",
   "execution_count": 4,
   "metadata": {},
   "outputs": [],
   "source": [
    "path_to_dir = \"September/data/\"\n",
    "obs = 0\n",
    "df = None\n",
    "\n",
    "for filename in os.listdir(path_to_dir):\n",
    "    inner = path_to_dir + str(filename) + \"/\"\n",
    "    for inner_file in os.listdir(inner):\n",
    "        df_file = inner + str(inner_file)\n",
    "        if df is None:\n",
    "            df = pd.read_csv(df_file, index_col=0).reset_index()\n",
    "        else:\n",
    "            temp_df = pd.read_csv(df_file, index_col=0).reset_index()\n",
    "            df = df.merge(temp_df, how = \"outer\")\n"
   ]
  },
  {
   "cell_type": "code",
   "execution_count": 8,
   "metadata": {},
   "outputs": [
    {
     "data": {
      "text/plain": [
       "True"
      ]
     },
     "execution_count": 8,
     "metadata": {},
     "output_type": "execute_result"
    }
   ],
   "source": [
    "len(df['index'].unique())> 1"
   ]
  },
  {
   "cell_type": "code",
   "execution_count": 23,
   "metadata": {},
   "outputs": [
    {
     "data": {
      "text/plain": [
       "2683"
      ]
     },
     "execution_count": 23,
     "metadata": {},
     "output_type": "execute_result"
    }
   ],
   "source": [
    "sum((df[\"index\"].value_counts() > 1) * (df[\"index\"].value_counts()))"
   ]
  },
  {
   "cell_type": "code",
   "execution_count": 19,
   "metadata": {},
   "outputs": [
    {
     "data": {
      "text/html": [
       "<div>\n",
       "<style scoped>\n",
       "    .dataframe tbody tr th:only-of-type {\n",
       "        vertical-align: middle;\n",
       "    }\n",
       "\n",
       "    .dataframe tbody tr th {\n",
       "        vertical-align: top;\n",
       "    }\n",
       "\n",
       "    .dataframe thead th {\n",
       "        text-align: right;\n",
       "    }\n",
       "</style>\n",
       "<table border=\"1\" class=\"dataframe\">\n",
       "  <thead>\n",
       "    <tr style=\"text-align: right;\">\n",
       "      <th></th>\n",
       "      <th>index</th>\n",
       "      <th>Moves</th>\n",
       "      <th>Usage</th>\n",
       "      <th>Gen</th>\n",
       "      <th>Format</th>\n",
       "      <th>Min Rating</th>\n",
       "    </tr>\n",
       "  </thead>\n",
       "  <tbody>\n",
       "    <tr>\n",
       "      <th>0</th>\n",
       "      <td>Bronzong</td>\n",
       "      <td>['gyroball', 'explosion', 'earthquake', 'steal...</td>\n",
       "      <td>0.124514</td>\n",
       "      <td>4</td>\n",
       "      <td>ou</td>\n",
       "      <td>0</td>\n",
       "    </tr>\n",
       "    <tr>\n",
       "      <th>1</th>\n",
       "      <td>Swampert</td>\n",
       "      <td>['earthquake', 'stealthrock', 'waterfall', 'ic...</td>\n",
       "      <td>0.120051</td>\n",
       "      <td>4</td>\n",
       "      <td>ou</td>\n",
       "      <td>0</td>\n",
       "    </tr>\n",
       "    <tr>\n",
       "      <th>2</th>\n",
       "      <td>Snorlax</td>\n",
       "      <td>['bodyslam', 'crunch', 'earthquake', 'curse', ...</td>\n",
       "      <td>0.040116</td>\n",
       "      <td>4</td>\n",
       "      <td>ou</td>\n",
       "      <td>0</td>\n",
       "    </tr>\n",
       "    <tr>\n",
       "      <th>3</th>\n",
       "      <td>Uxie</td>\n",
       "      <td>['stealthrock', 'uturn', 'thunderwave', 'psych...</td>\n",
       "      <td>0.023561</td>\n",
       "      <td>4</td>\n",
       "      <td>ou</td>\n",
       "      <td>0</td>\n",
       "    </tr>\n",
       "    <tr>\n",
       "      <th>4</th>\n",
       "      <td>Machamp</td>\n",
       "      <td>['dynamicpunch', 'payback', 'bulletpunch', 'ic...</td>\n",
       "      <td>0.102777</td>\n",
       "      <td>4</td>\n",
       "      <td>ou</td>\n",
       "      <td>0</td>\n",
       "    </tr>\n",
       "    <tr>\n",
       "      <th>...</th>\n",
       "      <td>...</td>\n",
       "      <td>...</td>\n",
       "      <td>...</td>\n",
       "      <td>...</td>\n",
       "      <td>...</td>\n",
       "      <td>...</td>\n",
       "    </tr>\n",
       "    <tr>\n",
       "      <th>2697</th>\n",
       "      <td>Zarude</td>\n",
       "      <td>['darkestlariat', 'powerwhip', 'uturn', 'jungl...</td>\n",
       "      <td>0.126021</td>\n",
       "      <td>8</td>\n",
       "      <td>uu</td>\n",
       "      <td>0</td>\n",
       "    </tr>\n",
       "    <tr>\n",
       "      <th>2698</th>\n",
       "      <td>Azumarill</td>\n",
       "      <td>['aquajet', 'playrough', 'knockoff', 'liquidat...</td>\n",
       "      <td>0.064454</td>\n",
       "      <td>8</td>\n",
       "      <td>uu</td>\n",
       "      <td>0</td>\n",
       "    </tr>\n",
       "    <tr>\n",
       "      <th>2699</th>\n",
       "      <td>Jirachi</td>\n",
       "      <td>['uturn', 'ironhead', 'trick', 'stealthrock', ...</td>\n",
       "      <td>0.236278</td>\n",
       "      <td>8</td>\n",
       "      <td>uu</td>\n",
       "      <td>0</td>\n",
       "    </tr>\n",
       "    <tr>\n",
       "      <th>2700</th>\n",
       "      <td>Azelf</td>\n",
       "      <td>['fireblast', 'knockoff', 'psychic', 'uturn', ...</td>\n",
       "      <td>0.093916</td>\n",
       "      <td>8</td>\n",
       "      <td>uu</td>\n",
       "      <td>0</td>\n",
       "    </tr>\n",
       "    <tr>\n",
       "      <th>2701</th>\n",
       "      <td>Kingdra</td>\n",
       "      <td>['dracometeor', 'hurricane', 'surf', 'flipturn...</td>\n",
       "      <td>0.022433</td>\n",
       "      <td>8</td>\n",
       "      <td>uu</td>\n",
       "      <td>0</td>\n",
       "    </tr>\n",
       "  </tbody>\n",
       "</table>\n",
       "<p>2683 rows × 6 columns</p>\n",
       "</div>"
      ],
      "text/plain": [
       "          index                                              Moves     Usage  \\\n",
       "0      Bronzong  ['gyroball', 'explosion', 'earthquake', 'steal...  0.124514   \n",
       "1      Swampert  ['earthquake', 'stealthrock', 'waterfall', 'ic...  0.120051   \n",
       "2       Snorlax  ['bodyslam', 'crunch', 'earthquake', 'curse', ...  0.040116   \n",
       "3          Uxie  ['stealthrock', 'uturn', 'thunderwave', 'psych...  0.023561   \n",
       "4       Machamp  ['dynamicpunch', 'payback', 'bulletpunch', 'ic...  0.102777   \n",
       "...         ...                                                ...       ...   \n",
       "2697     Zarude  ['darkestlariat', 'powerwhip', 'uturn', 'jungl...  0.126021   \n",
       "2698  Azumarill  ['aquajet', 'playrough', 'knockoff', 'liquidat...  0.064454   \n",
       "2699    Jirachi  ['uturn', 'ironhead', 'trick', 'stealthrock', ...  0.236278   \n",
       "2700      Azelf  ['fireblast', 'knockoff', 'psychic', 'uturn', ...  0.093916   \n",
       "2701    Kingdra  ['dracometeor', 'hurricane', 'surf', 'flipturn...  0.022433   \n",
       "\n",
       "      Gen Format  Min Rating  \n",
       "0       4     ou           0  \n",
       "1       4     ou           0  \n",
       "2       4     ou           0  \n",
       "3       4     ou           0  \n",
       "4       4     ou           0  \n",
       "...   ...    ...         ...  \n",
       "2697    8     uu           0  \n",
       "2698    8     uu           0  \n",
       "2699    8     uu           0  \n",
       "2700    8     uu           0  \n",
       "2701    8     uu           0  \n",
       "\n",
       "[2683 rows x 6 columns]"
      ]
     },
     "execution_count": 19,
     "metadata": {},
     "output_type": "execute_result"
    }
   ],
   "source": [
    "df[df.duplicated(keep=False, subset=\"index\")]"
   ]
  },
  {
   "cell_type": "code",
   "execution_count": null,
   "metadata": {},
   "outputs": [],
   "source": []
  }
 ],
 "metadata": {
  "interpreter": {
   "hash": "9e57da381150c32bc445a617f5277ea2102eb0088f85f33ec3bf81d0c63bfe54"
  },
  "kernelspec": {
   "display_name": "Python 3.8.8 64-bit ('base': conda)",
   "name": "python3"
  },
  "language_info": {
   "codemirror_mode": {
    "name": "ipython",
    "version": 3
   },
   "file_extension": ".py",
   "mimetype": "text/x-python",
   "name": "python",
   "nbconvert_exporter": "python",
   "pygments_lexer": "ipython3",
   "version": "3.8.8"
  },
  "orig_nbformat": 4
 },
 "nbformat": 4,
 "nbformat_minor": 2
}
