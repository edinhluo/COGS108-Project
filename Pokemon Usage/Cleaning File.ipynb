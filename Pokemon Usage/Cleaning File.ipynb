{
 "cells": [
  {
   "cell_type": "code",
   "execution_count": 1,
   "metadata": {},
   "outputs": [],
   "source": [
    "import clean\n",
    "import os"
   ]
  },
  {
   "cell_type": "code",
   "execution_count": 2,
   "metadata": {},
   "outputs": [
    {
     "name": "stdout",
     "output_type": "stream",
     "text": [
      "gen8nu-0\n",
      "gen8nu-1500\n",
      "gen8nu-1630\n",
      "gen8nu-1760\n",
      "gen8ou-0\n",
      "gen8ou-1500\n",
      "gen8ou-1695\n",
      "gen8ou-1825\n",
      "gen8ru-0\n",
      "gen8ru-1500\n",
      "gen8ru-1630\n",
      "gen8ru-1760\n",
      "gen8ubers-0\n",
      "gen8ubers-1500\n",
      "gen8ubers-1630\n",
      "gen8ubers-1760\n",
      "gen8uu-0\n",
      "gen8uu-1500\n",
      "gen8uu-1630\n",
      "gen8uu-1760\n"
     ]
    }
   ],
   "source": [
    "for filename in os.listdir(\"raw\"):\n",
    "    print(filename[:-5])"
   ]
  },
  {
   "cell_type": "code",
   "execution_count": null,
   "metadata": {},
   "outputs": [],
   "source": []
  }
 ],
 "metadata": {
  "interpreter": {
   "hash": "9e57da381150c32bc445a617f5277ea2102eb0088f85f33ec3bf81d0c63bfe54"
  },
  "kernelspec": {
   "display_name": "Python 3.8.8 64-bit ('base': conda)",
   "name": "python3"
  },
  "language_info": {
   "codemirror_mode": {
    "name": "ipython",
    "version": 3
   },
   "file_extension": ".py",
   "mimetype": "text/x-python",
   "name": "python",
   "nbconvert_exporter": "python",
   "pygments_lexer": "ipython3",
   "version": "3.8.8"
  },
  "orig_nbformat": 4
 },
 "nbformat": 4,
 "nbformat_minor": 2
}
