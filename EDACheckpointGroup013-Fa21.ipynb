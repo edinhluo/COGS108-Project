{
 "cells": [
  {
   "cell_type": "markdown",
   "metadata": {},
   "source": [
    "# COGS 108 - EDA Checkpoint"
   ]
  },
  {
   "cell_type": "markdown",
   "metadata": {},
   "source": [
    "# Names\n",
    "\n",
    "- Crystal Zhan\n",
    "- Akil Selvan Rajendra Janarthanan \n",
    "- Kristen Prescaro\n",
    "- Kristine Thipatima\n",
    "- Ethan Dinh-Luong"
   ]
  },
  {
   "cell_type": "markdown",
   "metadata": {},
   "source": [
    "<a id='research_question'></a>\n",
    "# Research Question"
   ]
  },
  {
   "cell_type": "markdown",
   "metadata": {},
   "source": [
    "How did the addition of the Fairy type Pokemon change competitive battling?"
   ]
  },
  {
   "cell_type": "markdown",
   "metadata": {},
   "source": [
    "# Setup"
   ]
  },
  {
   "cell_type": "code",
   "execution_count": null,
   "metadata": {},
   "outputs": [],
   "source": [
    "import pandas as pd\n",
    "import numpy as np\n",
    "import seaborn as sns\n",
    "import matplotlib.pyplot as plt"
   ]
  },
  {
   "cell_type": "markdown",
   "metadata": {},
   "source": [
    "# Data Cleaning"
   ]
  },
  {
   "cell_type": "markdown",
   "metadata": {},
   "source": [
    "## Cleaning Informational Data (Pokemon Moves, Pokemon Types)\n",
    "\n",
    "The list of moves is in a semi-structed JSON file, which we needed to clean up so we only had the relevant information about the moves. "
   ]
  },
  {
   "cell_type": "code",
   "execution_count": null,
   "metadata": {},
   "outputs": [],
   "source": [
    "moves = pd.read_json(\"Pokedex and Moves/data/moves.json\")\n",
    "moves.head()"
   ]
  },
  {
   "cell_type": "markdown",
   "metadata": {},
   "source": [
    "As can be seen, the names of the moves are the column names and the variables are the row names. However, we want it the other way around, with the move names as the index. \n",
    "\n",
    "We also only want the move name and the move type, so we remove all other variables. \n",
    "\n",
    "Next, we reset the index so there are index numbers and rename the index column to be called move.\n",
    "\n",
    "Now, our move dataset is clean. "
   ]
  },
  {
   "cell_type": "code",
   "execution_count": null,
   "metadata": {},
   "outputs": [],
   "source": [
    "# switching the column and row names \n",
    "moves = moves.T\n",
    "\n",
    "# removing all columns except move name & type\n",
    "moves = moves.loc[:,[\"name\", \"type\"]]\n",
    "\n",
    "#resetting the index numbers\n",
    "moves = moves.reset_index()\n",
    "\n",
    "#renaming index to be called move \n",
    "moves.rename(columns = {\"index\":\"move\"}, inplace=True)\n",
    "moves.head()"
   ]
  },
  {
   "cell_type": "markdown",
   "metadata": {},
   "source": [
    "Now, we apply the same cleaning steps with the list of Pokemon. \n",
    "\n",
    "However, there is an extra step of removing any Mega or Gmax form Pokemon, as our Pokemon Showdown dataset doesn't include them, nor would they affect the usage of Pokemon based on type. "
   ]
  },
  {
   "cell_type": "code",
   "execution_count": null,
   "metadata": {},
   "outputs": [],
   "source": [
    "pokemon = pd.read_json(\"Pokedex and Moves/data/pokedex.json\")\n",
    "\n",
    "#takes column name and row name and flips them\n",
    "pokemon = pokemon.T \n",
    "pokemon = pokemon.iloc[0:1155, :]\n",
    "\n",
    "#deletes all columns except for name and types\n",
    "pokemon = pokemon.loc[:,[\"name\", \"types\"]]\n",
    "pokemon = pokemon.reset_index()\n",
    "\n",
    "#renames index to be pokemon\n",
    "pokemon.rename(columns = {\"index\":\"pokemon\"}, inplace=True)\n",
    "\n",
    "#drop rows that contain the partial string \"gmax or mega\" in the pokemon column\n",
    "pokemon = pokemon[~pokemon.pokemon.str.contains(\"gmax\")]\n",
    "pokemon = pokemon[~pokemon.name.str.contains(\"-Mega\")]\n",
    "\n",
    "pokemon.head()\n"
   ]
  },
  {
   "cell_type": "markdown",
   "metadata": {},
   "source": [
    "The next step for the Pokemon list is to split the type column into two parts, as some Pokemon have two types, while others have one. For those with one type, we will put null for the 2nd type. "
   ]
  },
  {
   "cell_type": "code",
   "execution_count": null,
   "metadata": {},
   "outputs": [],
   "source": [
    "type1 = []\n",
    "type2 = []\n",
    "\n",
    "#loop through the list of pokemon and puts their types in their own columns\n",
    "#puts None if there's no secondary type\n",
    "for x in pokemon[\"types\"]:\n",
    "    type1.append(x[0])\n",
    "    if (len(x) == 2):\n",
    "        type2.append(x[1])\n",
    "    else:\n",
    "        type2.append(None)\n",
    "\n",
    "pokemon[\"types\"] = type1\n",
    "pokemon[\"type2\"] = type2\n",
    "pokemon.head()\n"
   ]
  },
  {
   "cell_type": "markdown",
   "metadata": {},
   "source": [
    "## Pokemon Showdown Battle Stats\n",
    "\n",
    "The data given by Pokemon Showdown is several semi-structured JSON format files, where cleaning was needed in every file to read the data into a usable format. \n",
    "\n",
    "*The cleaning process exampled below was repeated for all other JSON files.*\n",
    "\n",
    "Unnecessary data prior to our analysis was removed where data was null."
   ]
  },
  {
   "cell_type": "code",
   "execution_count": null,
   "metadata": {},
   "outputs": [],
   "source": [
    "raw = pd.read_json(\"Pokemon Usage/September/raw/gen8/gen8ou-0.json\")\n",
    "df = raw[raw['data'].notna()]['data']\n",
    "df"
   ]
  },
  {
   "cell_type": "markdown",
   "metadata": {},
   "source": [
    "To narrow down the data desired for our analysis, the following criteria were used to filter out the data:\n",
    "- Pokemon with at least 2% usage\n",
    "- Each Pokemon's Top 6 Moves\n",
    "\n",
    "Additionally, each dataframe includes 4 more columns identifying which JSON file the data originated from, denoted by **Gen**, **Format**, **Rating**, and **Recent** given in the first few rows of the JSON file."
   ]
  },
  {
   "cell_type": "code",
   "execution_count": null,
   "metadata": {},
   "outputs": [],
   "source": [
    "### Dictionary to make the DataFrame\n",
    "top_mons = {}\n",
    "\n",
    "### Saves the Pokemon as Indexes\n",
    "ix = list(df.index)\n",
    "\n",
    "### For each Observation\n",
    "for row in range(len(df)):\n",
    "\n",
    "    ### At least 2% Usage\n",
    "    if df[row]['usage'] >= .02:\n",
    "\n",
    "        ### Pokemon Name\n",
    "        mon = ix[row]\n",
    "\n",
    "        ### Finds the Top 6 Moves\n",
    "        top_6 = list(dict(sorted(df[row]['Moves'].items(), key=lambda item: item[1], reverse=True)))[:6]\n",
    "        \n",
    "        ### Saves info to dictionary\n",
    "        top_mons[mon] = [top_6, df[row]['usage']]\n",
    "\n",
    "### Output DataFrame\n",
    "cleaned = pd.DataFrame.from_dict(top_mons, orient = 'index').rename(columns = {0:\"Moves\", 1:\"Usage\"})\n",
    "\n",
    "### Format, Gen, Rating Variables\n",
    "metagame = raw.loc['metagame'][0]\n",
    "gen = metagame[3]\n",
    "format_name = metagame[4:]\n",
    "rating = raw.loc[\"cutoff\"][0]\n",
    "\n",
    "### Adding the Variables to the DF\n",
    "cleaned[\"Gen\"] = gen\n",
    "cleaned[\"Format\"] = format_name\n",
    "cleaned[\"Min Rating\"] = rating\n",
    "cleaned.head()\n"
   ]
  },
  {
   "cell_type": "markdown",
   "metadata": {},
   "source": [
    "## Joining the Datasets"
   ]
  },
  {
   "cell_type": "markdown",
   "metadata": {},
   "source": [
    "### Showdown Usage with Moves"
   ]
  },
  {
   "cell_type": "markdown",
   "metadata": {},
   "source": [
    "Firstly, we imported all the cleaned data from the prior section that was applied to all JSON files."
   ]
  },
  {
   "cell_type": "code",
   "execution_count": null,
   "metadata": {},
   "outputs": [],
   "source": [
    "### Importing Usage DFs and Merging Them\n",
    "recentdf = pd.read_csv(\"Pokemon Usage/SeptemberData.csv\",index_col=0).rename(columns = {'index':\"name\"})\n",
    "olddf =  pd.read_csv(\"Pokemon Usage/OldData.csv\",index_col=0).rename(columns = {'index':\"name\"})\n",
    "usagedf = recentdf.merge(olddf, how='outer')\n",
    "print(usagedf.shape)\n",
    "usagedf.head()"
   ]
  },
  {
   "cell_type": "markdown",
   "metadata": {},
   "source": [
    "The **Moves** column deceptively looks cleaned in a list format, but upon closer observation, it is actually a *string* representation of a list."
   ]
  },
  {
   "cell_type": "code",
   "execution_count": null,
   "metadata": {},
   "outputs": [],
   "source": [
    "type(usagedf[\"Moves\"][0])"
   ]
  },
  {
   "cell_type": "markdown",
   "metadata": {},
   "source": [
    "Addressing this, we will convert the string into a list by stripping the list representation and splitting the string by commas. Afterwards, we can proceed with standardizing the moves by its type."
   ]
  },
  {
   "cell_type": "code",
   "execution_count": null,
   "metadata": {},
   "outputs": [],
   "source": [
    "### Importing Moves DF\n",
    "movesdf = pd.read_csv(\"Pokedex and Moves/moves.csv\", index_col=0).set_index('move')\n",
    "\n",
    "### Standardize the Moves\n",
    "def standardize_moves(df):\n",
    "\n",
    "    ### List Representations of each Column\n",
    "    type1 = []\n",
    "    type2 = []\n",
    "    type3 = []\n",
    "    type4 = []\n",
    "    type5 = []\n",
    "    type6 = []\n",
    "\n",
    "    ### List of Pointers to Column Lists\n",
    "    type_list = [type1, type2, type3, type4, type5, type6]\n",
    "\n",
    "    ### For Each Row\n",
    "    for row in range(len(df[\"Moves\"])):\n",
    "\n",
    "        ### Strip the List Borders and Create a List by Splitting on Commas in the String\n",
    "        moves = df[\"Moves\"][row].strip('][').split(', ')\n",
    "\n",
    "        ### Tracks which Column Each Move Belongs to\n",
    "        list_num = 0\n",
    "\n",
    "        ### For Each Column\n",
    "        for each in range(6):\n",
    "\n",
    "            ### If a Pokemon has less than 6 moves, return nan\n",
    "            if each >= len(moves):\n",
    "                move_type = np.nan\n",
    "                type_list[list_num].append(move_type)\n",
    "                list_num += 1\n",
    "\n",
    "            else:\n",
    "                ### Removes Outer Apostrophes, if any\n",
    "                string = moves[each].strip(\"'\")\n",
    "\n",
    "                ### If a Popular Move is an Empty Slot, return nan\n",
    "                if (string) == \"\":\n",
    "                    move_type = np.nan\n",
    "                    type_list[list_num].append(move_type)\n",
    "                    list_num += 1\n",
    "                else:\n",
    "\n",
    "                    ### Find Move in Move DF containing Type\n",
    "                    move_type = movesdf.loc[string]['type']\n",
    "\n",
    "                    ### Add to Column\n",
    "                    type_list[list_num].append(move_type)\n",
    "\n",
    "                    ### Change Column\n",
    "                    list_num += 1\n",
    "\n",
    "    ### Piecing Everything Together\n",
    "    df[\"Type 1\"] = type_list[0]\n",
    "    df[\"Type 2\"] = type_list[1]\n",
    "    df[\"Type 3\"] = type_list[2]\n",
    "    df[\"Type 4\"] = type_list[3]\n",
    "    df[\"Type 5\"] = type_list[4]\n",
    "    df[\"Type 6\"] = type_list[5]\n",
    "\n",
    "    return df\n",
    "\n",
    "usagemovesdf = standardize_moves(usagedf)\n",
    "usagemovesdf.head()"
   ]
  },
  {
   "cell_type": "markdown",
   "metadata": {},
   "source": [
    "### Showdown Usage with Pokemon Types"
   ]
  },
  {
   "cell_type": "markdown",
   "metadata": {},
   "source": [
    "As opposed to the complexity of joining moves with usage, simply joining the Pokemon Types DF stats on the Showdown Usage on **name** will add two new columns **Type 1** and **Type 2** to the Showdown Usage DF."
   ]
  },
  {
   "cell_type": "code",
   "execution_count": null,
   "metadata": {},
   "outputs": [],
   "source": [
    "### Import Usage Data\n",
    "usagedf = recentdf.merge(olddf, how='outer')\n",
    "\n",
    "### Import Pokemon Types Data\n",
    "pokedexdf = pd.read_csv(\"Pokedex and Moves/pokemon.csv\", index_col=0).set_index('name')[['types','type2']]\n",
    "\n",
    "### Left Join Usage DF with Pokemon Types DF on \"name\" while renaming the additional columns\n",
    "usagetypesdf = usagedf.join(pokedexdf, on=\"name\").rename(columns={'types': \"Type 1\", \"type2\": \"Type 2\"})\n",
    "usagetypesdf"
   ]
  },
  {
   "cell_type": "markdown",
   "metadata": {},
   "source": [
    "# Data Analysis & Results (EDA)"
   ]
  },
  {
   "cell_type": "markdown",
   "metadata": {},
   "source": [
    "Before modeling our data, we want to extract the necessary labeled variables that we are analyzing into a quantitative variable, specifically the move types. We \"standardize\" these categoricals by counting how many moves within a Pokemon's Top 6 Moves are supereffective against either Fairy or Dragon Types and assign them to two new columns: **SE Dragon** and **SE Fairy**."
   ]
  },
  {
   "cell_type": "code",
   "execution_count": null,
   "metadata": {},
   "outputs": [],
   "source": [
    "### Finds all Super Effective Moves in the column\n",
    "def SE_moves(move_type, df, col, binary=False):\n",
    "\n",
    "    ### Checks if Moves are supereffecctive against Dragon\n",
    "    if move_type == \"Dragon\":\n",
    "        SE_moves = [\"Ice\",\"Dragon\"]\n",
    "    \n",
    "    ### Checks if Moves are supereffective against Fairy\n",
    "    else:\n",
    "        SE_moves = [\"Steel\",\"Poison\"]\n",
    "\n",
    "    ### Creates New Variable\n",
    "    is_SE = None\n",
    "\n",
    "    ### For each Super Effective Move\n",
    "    for each in SE_moves:\n",
    "\n",
    "        ### First Iteration\n",
    "        if is_SE is None:\n",
    "            \n",
    "            ### Finds Supereffective Moves and marks them as 1\n",
    "            is_SE = (df[col] == each)*1\n",
    "        else:\n",
    "            ### Keeps count of Supereffective Moves\n",
    "            is_SE += (df[col] == each)*1\n",
    "    \n",
    "    ### Returns Column with Count of Supereffective Moves per Pokemon\n",
    "    return is_SE\n",
    "\n",
    "### Function that checks through all columns and types\n",
    "def find_all_SE(df, binary = False):\n",
    "    types = [\"Dragon\", \"Fairy\"]\n",
    "    col = [\"Type 1\", \"Type 2\", \"Type 3\", \"Type 4\", \"Type 5\", \"Type 6\"]\n",
    "    SE_col = [\"SE Dragon\", \"SE Fairy\"]\n",
    "\n",
    "    for each in types:\n",
    "\n",
    "        all_SE = None\n",
    "\n",
    "        for col_name in col:\n",
    "\n",
    "            if all_SE is None:\n",
    "                all_SE = SE_moves(each, df, col_name)\n",
    "            else:\n",
    "                all_SE += SE_moves(each, df, col_name)\n",
    "\n",
    "        ### Changes to binary results, if specified\n",
    "        if binary:\n",
    "            all_SE = (all_SE > 0) * 1\n",
    "        df[SE_col[0]] = all_SE\n",
    "        SE_col = SE_col[1:]\n",
    "    \n",
    "    return df\n",
    "\n",
    "usagemovesdf = find_all_SE(usagemovesdf)\n",
    "usagemovesdf.head()"
   ]
  },
  {
   "cell_type": "code",
   "execution_count": null,
   "metadata": {},
   "outputs": [],
   "source": [
    "#takes the combined df of types of pokemon + their usages and splits them into usage of Dragon type and non Dragon type Pokemon\n",
    "\n",
    "def df(generation, format, type):\n",
    "    #makes new df that only has Pokemon of wanted generation + format\n",
    "    df = usagetypesdf[(usagetypesdf[\"Gen\"] == generation) & (usagetypesdf[\"Format\"] == format)]\n",
    "\n",
    "    #new df that only has wanted type\n",
    "    types = df.loc[((df['Type 1']==type) | (df['Type 2']==type)), :]\n",
    "    \n",
    "    #finds usage of the type\n",
    "    typesusage = types['Usage'].sum()\n",
    "\n",
    "    #new df that has any pokemon that's not the wanted type\n",
    "    nottype = df.loc[((df['Type 1']!=type) & (df['Type 2']!=type)), :]\n",
    "\n",
    "    #finds usage of not type\n",
    "    nottypeusage = nottype['Usage'].sum()\n",
    "    \n",
    "    #new array with usages to be returned\n",
    "    usagedf = [typesusage, nottypeusage]\n",
    "\n",
    "    return usagedf"
   ]
  },
  {
   "cell_type": "markdown",
   "metadata": {},
   "source": [
    "First, let us see how the usage of dragon type pokemon was affected by the addition of fairy type pokemon. We can also at how often fairy type pokemon were used in each format to see how popular they were."
   ]
  },
  {
   "cell_type": "code",
   "execution_count": null,
   "metadata": {},
   "outputs": [],
   "source": [
    "#finds the usage of dragon/fairy type in ubers format in each generation\n",
    "\n",
    "dgen4ubers = df (4, \"ubers\", \"Dragon\")\n",
    "dgen5ubers = df (5, \"ubers\", \"Dragon\")\n",
    "dgen6ubers = df (6, \"ubers\", \"Dragon\")\n",
    "dgen7ubers = df (7, \"ubers\", \"Dragon\")\n",
    "dgen8ubers = df (8, \"ubers\", \"Dragon\")\n",
    "\n",
    "fgen6ubers = df (6, \"ubers\", \"Fairy\")\n",
    "fgen7ubers = df (7, \"ubers\", \"Fairy\")\n",
    "fgen8ubers = df (8, \"ubers\", \"Fairy\")"
   ]
  },
  {
   "cell_type": "code",
   "execution_count": null,
   "metadata": {},
   "outputs": [],
   "source": [
    "#finds the usage of dragon/fairy type in ou format in each generation\n",
    "\n",
    "dgen4ou = df (4, \"ou\", \"Dragon\")\n",
    "dgen5ou = df (5, \"ou\", \"Dragon\")\n",
    "dgen6ou = df (6, \"ou\", \"Dragon\")\n",
    "dgen7ou = df (7, \"ou\", \"Dragon\")\n",
    "dgen8ou = df (8, \"ou\", \"Dragon\")\n",
    "\n",
    "fgen6ou = df (6, \"ou\", \"Fairy\")\n",
    "fgen7ou = df (7, \"ou\", \"Fairy\")\n",
    "fgen8ou = df (8, \"ou\", \"Fairy\")"
   ]
  },
  {
   "cell_type": "code",
   "execution_count": null,
   "metadata": {},
   "outputs": [],
   "source": [
    "#Using the values above, we made a dataframe with the usage % of dragon types and non-dragon types across generations in Ubers format.\n",
    "ubdragondf2= pd.DataFrame(\n",
    "    {\n",
    "        \"Generation\" : ['Gen 4', 'Gen 4', 'Gen 5', 'Gen 5', 'Gen 6', 'Gen 6','Gen 7', 'Gen 7','Gen 8', 'Gen 8'],\n",
    "        \"Type\": ['Dragon', 'Not Dragon', 'Dragon', 'Not Dragon','Dragon', 'Not Dragon','Dragon', 'Not Dragon', 'Dragon', 'Not Dragon'],\n",
    "        \"Usage %\": [dgen4ubers[0], dgen4ubers[1], dgen5ubers[0], dgen5ubers[1], dgen6ubers[0], dgen6ubers[1], dgen7ubers[0], dgen7ubers[1], dgen8ubers[0], dgen8ubers[1]],\n",
    "    },\n",
    ")\n",
    "# We then used this dataframe to create a barplot comparing dragon and not dragon usage in Ubers format.\n",
    "sns.barplot(x=\"Generation\", \n",
    "            y=\"Usage %\", \n",
    "            hue=\"Type\", \n",
    "            data=ubdragondf2,\n",
    "            palette='viridis'\n",
    "           ).set_title(\"Ubers Format\");\n"
   ]
  },
  {
   "cell_type": "markdown",
   "metadata": {},
   "source": [
    "In Ubers format, the % of dragon type usage shows a gradual decline until the increase of usage in generation 8. Meanwhile, the usage % of non-dragon types declines a bit in generation 5 but spikes up in generations 7 and 8."
   ]
  },
  {
   "cell_type": "code",
   "execution_count": null,
   "metadata": {},
   "outputs": [],
   "source": [
    "#Similarly, we created a dataframe containing the usage % of dragon types and not dragon types across generations in OU format. \n",
    "oudragondf2= pd.DataFrame(\n",
    "    {\n",
    "        \"Generation\" : ['Gen 4', 'Gen 4', 'Gen 5', 'Gen 5', 'Gen 6', 'Gen 6','Gen 7', 'Gen 7','Gen 8', 'Gen 8'],\n",
    "        \"Type\": ['Dragon', 'Not Dragon', 'Dragon', 'Not Dragon','Dragon', 'Not Dragon','Dragon', 'Not Dragon', 'Dragon', 'Not Dragon'],\n",
    "        \"Usage %\": [dgen4ou[0], dgen4ou[1], dgen5ou[0], dgen5ou[1], dgen6ou[0], dgen6ou[1], dgen7ou[0], dgen7ou[1], dgen8ou[0], dgen8ou[1]],\n",
    "    },\n",
    ")\n",
    "#We used this dataframe to create a barplot comparing dragon and not dragon usage in OU format.\n",
    "sns.barplot(x=\"Generation\", \n",
    "            y=\"Usage %\", \n",
    "            hue=\"Type\", \n",
    "            data=oudragondf2,\n",
    "            palette='viridis'\n",
    "           ).set_title(\"OU Format\");\n"
   ]
  },
  {
   "cell_type": "markdown",
   "metadata": {},
   "source": [
    "In the OU format, the % of not Dragon types decreases until generation 7, where it goes to its highest and stays at that level in generation 8. On the other hand, the % of Dragon types fluctuates, decreasing from 6 -> 7, then back up again in generation 8."
   ]
  },
  {
   "cell_type": "code",
   "execution_count": null,
   "metadata": {
    "scrolled": true
   },
   "outputs": [],
   "source": [
    "#We created a dataframe containing the usage % of fairy types and not fairy types across generations in Ubers format.\n",
    "ubFairydf2= pd.DataFrame(\n",
    "    {\n",
    "        \"Generation\" : ['Gen 6', 'Gen 6','Gen 7', 'Gen 7','Gen 8', 'Gen 8'],\n",
    "        \"Type\": ['Fairy', 'Not Fairy', 'Fairy', 'Not Fairy','Fairy', 'Not Fairy'],\n",
    "        \"Usage %\": [fgen6ubers[0], fgen6ubers[1], fgen7ubers[0], fgen7ubers[1], fgen8ubers[0], fgen8ubers[1]],\n",
    "    },\n",
    ")\n",
    "#We used the dataframe above to create a barplot that compares fairy and not fairy usage in Ubers format\n",
    "sns.barplot(x=\"Generation\", \n",
    "            y=\"Usage %\", \n",
    "            hue=\"Type\", \n",
    "            data=ubFairydf2,\n",
    "            palette='rocket'\n",
    "           ).set_title(\"Ubers Format\");"
   ]
  },
  {
   "cell_type": "markdown",
   "metadata": {},
   "source": [
    "In the Ubers format, the % of not Fairy types goes up from generation 6 to 7, then stays the same between 7 and 8. The % of Fairy types goes up very slightly, although that could be noise."
   ]
  },
  {
   "cell_type": "code",
   "execution_count": null,
   "metadata": {},
   "outputs": [],
   "source": [
    "#We also created a dataframe containing the usage % of fairy types and not fairy types across generations in OU format.\n",
    "ouFairydf2= pd.DataFrame(\n",
    "    {\n",
    "        \"Generation\" : ['Gen 6', 'Gen 6','Gen 7', 'Gen 7','Gen 8', 'Gen 8'],\n",
    "        \"Type\": ['Fairy', 'Not Fairy', 'Fairy', 'Not Fairy','Fairy', 'Not Fairy'],\n",
    "        \"Usage %\": [fgen6ou[0], fgen6ou[1], fgen7ou[0], fgen7ou[1], fgen8ou[0], fgen8ou[1]],\n",
    "    },\n",
    ")\n",
    "#This dataframe was used to create a barplot comparing fairy and not fairy usage in OU format.\n",
    "sns.barplot(x=\"Generation\", \n",
    "            y=\"Usage %\", \n",
    "            hue=\"Type\", \n",
    "            data=ouFairydf2,\n",
    "            palette='rocket'\n",
    "           ).set_title(\"OU Format\");"
   ]
  },
  {
   "cell_type": "markdown",
   "metadata": {},
   "source": [
    "In each generation in the OU format, the % of not Fairy types goes up, while Fairy type increases in generation 7 and declines a bit in generation 8."
   ]
  },
  {
   "cell_type": "code",
   "execution_count": null,
   "metadata": {},
   "outputs": [],
   "source": [
    "#Here we have made a new dataframe that contains the usage % of dragon types and fairy types across generations in Ubers format.\n",
    "ubdragonfairydf= pd.DataFrame(\n",
    "    {\n",
    "        \"Generation\" : ['Gen 4', 'Gen 4', 'Gen 5', 'Gen 5', 'Gen 6', 'Gen 6','Gen 7', 'Gen 7','Gen 8', 'Gen 8'],\n",
    "        \"Type\": ['Dragon', 'Fairy', 'Dragon', 'Fairy','Dragon', 'Fairy','Dragon', 'Fairy', 'Dragon', 'Fairy'],\n",
    "        \"Usage %\": [dgen4ubers[0], 0, dgen5ubers[0], 0, dgen6ubers[0], fgen6ubers[0], dgen7ubers[0], fgen7ubers[0], dgen8ubers[0], fgen8ubers[0]],\n",
    "    },\n",
    ")\n",
    "#Using this dataframe, we created a barplot comparing dragon and fairy usage in Ubers format.\n",
    "sns.barplot(x=\"Generation\", \n",
    "            y=\"Usage %\", \n",
    "            hue=\"Type\", \n",
    "            data=ubdragonfairydf,\n",
    "            palette='muted'\n",
    "           ).set_title(\"Ubers Format\");"
   ]
  },
  {
   "cell_type": "markdown",
   "metadata": {},
   "source": [
    "The number of Dragon type Pokemon fluctuates between each generation, although for each generation that Fairy type is in, usage seems to go up. In generation 6 and 8, there are more Dragon than fairy types, although the reverse is true for generation 7."
   ]
  },
  {
   "cell_type": "code",
   "execution_count": null,
   "metadata": {},
   "outputs": [],
   "source": [
    "#We also created a new dataframe that contains the usage % of dragon types and fairy types across generations in ou format.\n",
    "oudragonfairydf= pd.DataFrame(\n",
    "    {\n",
    "        \"Generation\" : ['Gen 4', 'Gen 4', 'Gen 5', 'Gen 5', 'Gen 6', 'Gen 6','Gen 7', 'Gen 7','Gen 8', 'Gen 8'],\n",
    "        \"Type\": ['Dragon', 'Fairy', 'Dragon', 'Fairy','Dragon', 'Fairy','Dragon', 'Fairy', 'Dragon', 'Fairy'],\n",
    "        \"Usage %\": [dgen4ou[0], 0, dgen5ou[0], 0, dgen6ou[0], fgen6ou[0], dgen7ou[0], fgen7ou[0], dgen8ou[0], fgen8ou[0]],\n",
    "    },\n",
    ")\n",
    "# We used this dataframe to create a barplot that compares dragon and fairy usage in OU format.\n",
    "sns.barplot(x=\"Generation\", \n",
    "            y=\"Usage %\", \n",
    "            hue=\"Type\", \n",
    "            data=oudragonfairydf,\n",
    "            palette='muted'\n",
    "           ).set_title(\"OU Format\");"
   ]
  },
  {
   "cell_type": "markdown",
   "metadata": {},
   "source": [
    "In OU format, both dragon and fairy type usage seem to fluctuate. The usage % of dragon types decreases in generation 6, when fairy types are introduced, and it continues to decline in generation 7 as fairy type usage increases significantly. Generation 8 sees an increase in dragon type usage while fairy type usage decreases."
   ]
  },
  {
   "cell_type": "markdown",
   "metadata": {},
   "source": [
    "Now, lets look at how the movepools of pokemon changed to reflect the addition of fairy type pokemon in generation 6."
   ]
  },
  {
   "cell_type": "code",
   "execution_count": null,
   "metadata": {},
   "outputs": [],
   "source": [
    "usagemovesdf.head()"
   ]
  },
  {
   "cell_type": "code",
   "execution_count": null,
   "metadata": {},
   "outputs": [],
   "source": [
    "# We are only looking at ou and ubers formats\n",
    "usagemovesdf2 = usagemovesdf[(usagemovesdf['Format'] == 'ou') | (usagemovesdf['Format'] == 'ubers')] \n",
    "\n",
    "# We are looking at the % of moves SE against Dragons in both tiers\n",
    "# The reason we are calculating usage % this way is: usagemovesdf2[(usagemovesdf2['Gen'] == 4)]['SE Dragon'].sum() tells us how many SE moves were used in the 4th gen and (usagemovesdf2[(usagemovesdf2['Gen'] == 4)]['SE Dragon'].count() *6) tells us how many total moves were used in the 4th gen. We can simply multiply by 6 here because we are only looking at the top 6 moves! We use the same logic for calculating the rest of the SE percentages.\n",
    "gen4SEDragons = usagemovesdf2[(usagemovesdf2['Gen'] == 4)]['SE Dragon'].sum()/ (usagemovesdf2[(usagemovesdf2['Gen'] == 4)]['SE Dragon'].count() *6)\n",
    "gen5SEDragons = usagemovesdf2[(usagemovesdf2['Gen'] == 5)]['SE Dragon'].sum()/ (usagemovesdf2[(usagemovesdf2['Gen'] == 5)]['SE Dragon'].count() *6)\n",
    "gen6SEDragons = usagemovesdf2[(usagemovesdf2['Gen'] == 6)]['SE Dragon'].sum()/ (usagemovesdf2[(usagemovesdf2['Gen'] == 6)]['SE Dragon'].count() *6)\n",
    "gen7SEDragons = usagemovesdf2[(usagemovesdf2['Gen'] == 7)]['SE Dragon'].sum()/ (usagemovesdf2[(usagemovesdf2['Gen'] == 7)]['SE Dragon'].count() *6)\n",
    "gen8SEDragons = usagemovesdf2[(usagemovesdf2['Gen'] == 8)]['SE Dragon'].sum()/ (usagemovesdf2[(usagemovesdf2['Gen'] == 8)]['SE Dragon'].count() *6)\n",
    "\n",
    "# We are looking at the % of moves SE against Dragons in just Ubers\n",
    "gen4SEDragonsUbers = usagemovesdf2[(usagemovesdf2['Gen'] == 4) & (usagemovesdf2['Format'] == 'ubers')]['SE Dragon'].sum()/ (usagemovesdf2[(usagemovesdf2['Gen'] == 4) & (usagemovesdf2['Format'] == 'ubers')]['SE Dragon'].count() *6)\n",
    "\n",
    "gen5SEDragonsUbers = usagemovesdf2[(usagemovesdf2['Gen'] == 5) & (usagemovesdf2['Format'] == 'ubers')]['SE Dragon'].sum()/ (usagemovesdf2[(usagemovesdf2['Gen'] == 5) & (usagemovesdf2['Format'] == 'ubers')]['SE Dragon'].count() *6)\n",
    "\n",
    "gen6SEDragonsUbers = usagemovesdf2[(usagemovesdf2['Gen'] == 6) & (usagemovesdf2['Format'] == 'ubers')]['SE Dragon'].sum()/ (usagemovesdf2[(usagemovesdf2['Gen'] == 6) & (usagemovesdf2['Format'] == 'ubers')]['SE Dragon'].count() *6)\n",
    "\n",
    "gen7SEDragonsUbers = usagemovesdf2[(usagemovesdf2['Gen'] == 7) & (usagemovesdf2['Format'] == 'ubers')]['SE Dragon'].sum()/ (usagemovesdf2[(usagemovesdf2['Gen'] == 7) & (usagemovesdf2['Format'] == 'ubers')]['SE Dragon'].count() *6)\n",
    "\n",
    "gen8SEDragonsUbers = usagemovesdf2[(usagemovesdf2['Gen'] == 8) & (usagemovesdf2['Format'] == 'ubers')]['SE Dragon'].sum()/ (usagemovesdf2[(usagemovesdf2['Gen'] == 8) & (usagemovesdf2['Format'] == 'ubers')]['SE Dragon'].count() *6)\n",
    "\n",
    "# We are looking at the % of moves SE against Dragons in just OU\n",
    "gen4SEDragonsOU = usagemovesdf2[(usagemovesdf2['Gen'] == 4) & (usagemovesdf2['Format'] == 'ou')]['SE Dragon'].sum()/ (usagemovesdf2[(usagemovesdf2['Gen'] == 4) & (usagemovesdf2['Format'] == 'ou')]['SE Dragon'].count() *6)\n",
    "\n",
    "gen5SEDragonsOU = usagemovesdf2[(usagemovesdf2['Gen'] == 5) & (usagemovesdf2['Format'] == 'ou')]['SE Dragon'].sum()/ (usagemovesdf2[(usagemovesdf2['Gen'] == 5) & (usagemovesdf2['Format'] == 'ou')]['SE Dragon'].count() *6)\n",
    "\n",
    "gen6SEDragonsOU = usagemovesdf2[(usagemovesdf2['Gen'] == 6) & (usagemovesdf2['Format'] == 'ou')]['SE Dragon'].sum()/ (usagemovesdf2[(usagemovesdf2['Gen'] == 6) & (usagemovesdf2['Format'] == 'ou')]['SE Dragon'].count() *6)\n",
    "\n",
    "gen7SEDragonsOU = usagemovesdf2[(usagemovesdf2['Gen'] == 7) & (usagemovesdf2['Format'] == 'ou')]['SE Dragon'].sum()/ (usagemovesdf2[(usagemovesdf2['Gen'] == 7) & (usagemovesdf2['Format'] == 'ou')]['SE Dragon'].count() *6)\n",
    "\n",
    "gen8SEDragonsOU = usagemovesdf2[(usagemovesdf2['Gen'] == 8) & (usagemovesdf2['Format'] == 'ou')]['SE Dragon'].sum()/ (usagemovesdf2[(usagemovesdf2['Gen'] == 8) & (usagemovesdf2['Format'] == 'ou')]['SE Dragon'].count() *6)\n",
    "\n",
    "\n",
    "\n",
    "\n",
    "print(gen4SEDragons, gen5SEDragons, gen6SEDragons, gen7SEDragons, gen8SEDragons)\n",
    "\n",
    "gen4SEDragonsUbers"
   ]
  },
  {
   "cell_type": "code",
   "execution_count": null,
   "metadata": {},
   "outputs": [],
   "source": [
    "# EDA time woo\n",
    "\n",
    "# We make a new dataframe with the % of moves SE against a Dragon from the numbers we calculated above.\n",
    "seDragonsDf = pd.DataFrame(\n",
    "    {\n",
    "        \"Generation\" : ['Gen 4', 'Gen 4','Gen 4', 'Gen 5', 'Gen 5','Gen 5', 'Gen 6', 'Gen 6','Gen 6','Gen 7', 'Gen 7','Gen 7','Gen 8', 'Gen 8', 'Gen 8'],\n",
    "        \"Format\": ['overall', 'ubers', 'ou', 'overall', 'ubers', 'ou', 'overall', 'ubers', 'ou', 'overall', 'ubers', 'ou','overall', 'ubers', 'ou'],\n",
    "        \"Percent of moves SE against dragons\": [gen4SEDragons, gen4SEDragonsUbers, gen4SEDragonsOU, gen5SEDragons, gen5SEDragonsUbers, gen5SEDragonsOU, gen6SEDragons, gen6SEDragonsUbers, gen6SEDragonsOU, gen7SEDragons, gen7SEDragonsUbers, gen7SEDragonsOU, gen8SEDragons, gen8SEDragonsUbers, gen8SEDragonsOU],\n",
    "    },\n",
    ")\n",
    "\n",
    "# change decimal into a percentage\n",
    "seDragonsDf[\"Percent of moves SE against dragons\"] = seDragonsDf[\"Percent of moves SE against dragons\"].apply(lambda x: x*100)\n",
    "\n",
    "sns.barplot(x=\"Generation\", \n",
    "            y=\"Percent of moves SE against dragons\", \n",
    "            hue=\"Format\", \n",
    "            data=seDragonsDf,\n",
    "            palette='magma'\n",
    "           ).set_title(\"Moves SE against dragon in Generations 4-8\")\n",
    "\n"
   ]
  },
  {
   "cell_type": "markdown",
   "metadata": {},
   "source": [
    "As we would expect, the number of ice type and dragon type moves went down a noticable amount with the introduction of fairy types in gen 6. This is because Fairy type attacks were a new viable counter to dragon types so players had more options to choose from and chose ice and dragon types much less. "
   ]
  },
  {
   "cell_type": "code",
   "execution_count": null,
   "metadata": {},
   "outputs": [],
   "source": [
    "# Here, we repeat the same process for moves that are SE against the Fairy type.\n",
    "# We are looking at the % of moves SE against Fairy in both tiers\n",
    "gen4SEFairy = usagemovesdf2[(usagemovesdf2['Gen'] == 4)]['SE Fairy'].sum()/ (usagemovesdf2[(usagemovesdf2['Gen'] == 4)]['SE Fairy'].count() *6)\n",
    "gen5SEFairy = usagemovesdf2[(usagemovesdf2['Gen'] == 5)]['SE Fairy'].sum()/ (usagemovesdf2[(usagemovesdf2['Gen'] == 5)]['SE Fairy'].count() *6)\n",
    "gen6SEFairy = usagemovesdf2[(usagemovesdf2['Gen'] == 6)]['SE Fairy'].sum()/ (usagemovesdf2[(usagemovesdf2['Gen'] == 6)]['SE Fairy'].count() *6)\n",
    "gen7SEFairy = usagemovesdf2[(usagemovesdf2['Gen'] == 7)]['SE Fairy'].sum()/ (usagemovesdf2[(usagemovesdf2['Gen'] == 7)]['SE Fairy'].count() *6)\n",
    "gen8SEFairy = usagemovesdf2[(usagemovesdf2['Gen'] == 8)]['SE Fairy'].sum()/ (usagemovesdf2[(usagemovesdf2['Gen'] == 8)]['SE Fairy'].count() *6)\n",
    "\n",
    "# We are looking at the % of moves SE against Fairy in just Ubers\n",
    "gen4SEFairyUbers = usagemovesdf2[(usagemovesdf2['Gen'] == 4) & (usagemovesdf2['Format'] == 'ubers')]['SE Fairy'].sum()/ (usagemovesdf2[(usagemovesdf2['Gen'] == 4) & (usagemovesdf2['Format'] == 'ubers')]['SE Fairy'].count() *6)\n",
    "\n",
    "gen5SEFairyUbers = usagemovesdf2[(usagemovesdf2['Gen'] == 5) & (usagemovesdf2['Format'] == 'ubers')]['SE Fairy'].sum()/ (usagemovesdf2[(usagemovesdf2['Gen'] == 5) & (usagemovesdf2['Format'] == 'ubers')]['SE Fairy'].count() *6)\n",
    "\n",
    "gen6SEFairyUbers = usagemovesdf2[(usagemovesdf2['Gen'] == 6) & (usagemovesdf2['Format'] == 'ubers')]['SE Fairy'].sum()/ (usagemovesdf2[(usagemovesdf2['Gen'] == 6) & (usagemovesdf2['Format'] == 'ubers')]['SE Fairy'].count() *6)\n",
    "\n",
    "gen7SEFairyUbers = usagemovesdf2[(usagemovesdf2['Gen'] == 7) & (usagemovesdf2['Format'] == 'ubers')]['SE Fairy'].sum()/ (usagemovesdf2[(usagemovesdf2['Gen'] == 7) & (usagemovesdf2['Format'] == 'ubers')]['SE Fairy'].count() *6)\n",
    "\n",
    "gen8SEFairyUbers = usagemovesdf2[(usagemovesdf2['Gen'] == 8) & (usagemovesdf2['Format'] == 'ubers')]['SE Fairy'].sum()/ (usagemovesdf2[(usagemovesdf2['Gen'] == 8) & (usagemovesdf2['Format'] == 'ubers')]['SE Fairy'].count() *6)\n",
    "\n",
    "# We are looking at the % of moves SE against Fairy in just OU\n",
    "gen4SEFairyOU = usagemovesdf2[(usagemovesdf2['Gen'] == 4) & (usagemovesdf2['Format'] == 'ou')]['SE Fairy'].sum()/ (usagemovesdf2[(usagemovesdf2['Gen'] == 4) & (usagemovesdf2['Format'] == 'ou')]['SE Fairy'].count() *6)\n",
    "\n",
    "gen5SEFairyOU = usagemovesdf2[(usagemovesdf2['Gen'] == 5) & (usagemovesdf2['Format'] == 'ou')]['SE Fairy'].sum()/ (usagemovesdf2[(usagemovesdf2['Gen'] == 5) & (usagemovesdf2['Format'] == 'ou')]['SE Fairy'].count() *6)\n",
    "\n",
    "gen6SEFairyOU = usagemovesdf2[(usagemovesdf2['Gen'] == 6) & (usagemovesdf2['Format'] == 'ou')]['SE Fairy'].sum()/ (usagemovesdf2[(usagemovesdf2['Gen'] == 6) & (usagemovesdf2['Format'] == 'ou')]['SE Fairy'].count() *6)\n",
    "\n",
    "gen7SEFairyOU = usagemovesdf2[(usagemovesdf2['Gen'] == 7) & (usagemovesdf2['Format'] == 'ou')]['SE Fairy'].sum()/ (usagemovesdf2[(usagemovesdf2['Gen'] == 7) & (usagemovesdf2['Format'] == 'ou')]['SE Fairy'].count() *6)\n",
    "\n",
    "gen8SEFairyOU = usagemovesdf2[(usagemovesdf2['Gen'] == 8) & (usagemovesdf2['Format'] == 'ou')]['SE Fairy'].sum()/ (usagemovesdf2[(usagemovesdf2['Gen'] == 8) & (usagemovesdf2['Format'] == 'ou')]['SE Fairy'].count() *6)"
   ]
  },
  {
   "cell_type": "code",
   "execution_count": null,
   "metadata": {},
   "outputs": [],
   "source": [
    "# We make a dataframe based on the result from the calculations above\n",
    "seFairyDf = pd.DataFrame(\n",
    "    {\n",
    "        \"Generation\" : ['Gen 4', 'Gen 4','Gen 4', 'Gen 5', 'Gen 5','Gen 5', 'Gen 6', 'Gen 6','Gen 6','Gen 7', 'Gen 7','Gen 7','Gen 8', 'Gen 8', 'Gen 8'],\n",
    "        \"Format\": ['overall', 'ubers', 'ou', 'overall', 'ubers', 'ou', 'overall', 'ubers', 'ou', 'overall', 'ubers', 'ou','overall', 'ubers', 'ou'],\n",
    "        \"Percent of moves SE against fairy\": [gen4SEFairy, gen4SEFairyUbers, gen4SEFairyOU, gen5SEFairy, gen5SEFairyUbers, gen5SEFairyOU, gen6SEFairy, gen6SEFairyUbers, gen6SEFairyOU, gen7SEFairy, gen7SEFairyUbers, gen7SEFairyOU, gen8SEFairy, gen8SEFairyUbers, gen8SEFairyOU],\n",
    "    },\n",
    ")\n",
    "\n",
    "# change decimal into a percentage\n",
    "seFairyDf[\"Percent of moves SE against fairy\"] = seFairyDf[\"Percent of moves SE against fairy\"].apply(lambda x: x*100)\n",
    "\n",
    "sns.barplot(x=\"Generation\", \n",
    "            y=\"Percent of moves SE against fairy\", \n",
    "            hue=\"Format\", \n",
    "            data=seFairyDf,\n",
    "            palette='magma'\n",
    "           ).set_title(\"Moves SE against fairy in Generations 4-8\")\n"
   ]
  },
  {
   "cell_type": "markdown",
   "metadata": {},
   "source": [
    "As we would expect, the number of moves super effective against fairy types increased drastically in Gen 6 with the introduction of fairy types. Players were forced to use steel, and poison type attacks more frequently in order to counter the new fairy pokemon."
   ]
  }
 ],
 "metadata": {
  "interpreter": {
   "hash": "b2f97dd7bbae4c97782568326a057775c5012bae19a8c7e373a7b88206dab8b5"
  },
  "kernelspec": {
   "display_name": "Python 3",
   "language": "python",
   "name": "python3"
  },
  "language_info": {
   "codemirror_mode": {
    "name": "ipython",
    "version": 3
   },
   "file_extension": ".py",
   "mimetype": "text/x-python",
   "name": "python",
   "nbconvert_exporter": "python",
   "pygments_lexer": "ipython3",
   "version": "3.8.8"
  }
 },
 "nbformat": 4,
 "nbformat_minor": 2
}
