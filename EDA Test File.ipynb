{
 "cells": [
  {
   "cell_type": "code",
   "execution_count": 37,
   "metadata": {},
   "outputs": [],
   "source": [
    "import os\n",
    "import pandas as pd\n",
    "import numpy as np\n",
    "import json"
   ]
  },
  {
   "cell_type": "code",
   "execution_count": 14,
   "metadata": {},
   "outputs": [
    {
     "data": {
      "text/html": [
       "<div>\n",
       "<style scoped>\n",
       "    .dataframe tbody tr th:only-of-type {\n",
       "        vertical-align: middle;\n",
       "    }\n",
       "\n",
       "    .dataframe tbody tr th {\n",
       "        vertical-align: top;\n",
       "    }\n",
       "\n",
       "    .dataframe thead th {\n",
       "        text-align: right;\n",
       "    }\n",
       "</style>\n",
       "<table border=\"1\" class=\"dataframe\">\n",
       "  <thead>\n",
       "    <tr style=\"text-align: right;\">\n",
       "      <th></th>\n",
       "      <th>index</th>\n",
       "      <th>Moves</th>\n",
       "      <th>Usage</th>\n",
       "      <th>Gen</th>\n",
       "      <th>Format</th>\n",
       "      <th>Min Rating</th>\n",
       "      <th>Recent</th>\n",
       "    </tr>\n",
       "  </thead>\n",
       "  <tbody>\n",
       "    <tr>\n",
       "      <th>0</th>\n",
       "      <td>Bronzong</td>\n",
       "      <td>['gyroball', 'explosion', 'earthquake', 'steal...</td>\n",
       "      <td>0.124514</td>\n",
       "      <td>4</td>\n",
       "      <td>ou</td>\n",
       "      <td>0.0</td>\n",
       "      <td>1</td>\n",
       "    </tr>\n",
       "    <tr>\n",
       "      <th>1</th>\n",
       "      <td>Swampert</td>\n",
       "      <td>['earthquake', 'stealthrock', 'waterfall', 'ic...</td>\n",
       "      <td>0.120051</td>\n",
       "      <td>4</td>\n",
       "      <td>ou</td>\n",
       "      <td>0.0</td>\n",
       "      <td>1</td>\n",
       "    </tr>\n",
       "    <tr>\n",
       "      <th>2</th>\n",
       "      <td>Snorlax</td>\n",
       "      <td>['bodyslam', 'crunch', 'earthquake', 'curse', ...</td>\n",
       "      <td>0.040116</td>\n",
       "      <td>4</td>\n",
       "      <td>ou</td>\n",
       "      <td>0.0</td>\n",
       "      <td>1</td>\n",
       "    </tr>\n",
       "    <tr>\n",
       "      <th>3</th>\n",
       "      <td>Uxie</td>\n",
       "      <td>['stealthrock', 'uturn', 'thunderwave', 'psych...</td>\n",
       "      <td>0.023561</td>\n",
       "      <td>4</td>\n",
       "      <td>ou</td>\n",
       "      <td>0.0</td>\n",
       "      <td>1</td>\n",
       "    </tr>\n",
       "    <tr>\n",
       "      <th>4</th>\n",
       "      <td>Machamp</td>\n",
       "      <td>['dynamicpunch', 'payback', 'bulletpunch', 'ic...</td>\n",
       "      <td>0.102777</td>\n",
       "      <td>4</td>\n",
       "      <td>ou</td>\n",
       "      <td>0.0</td>\n",
       "      <td>1</td>\n",
       "    </tr>\n",
       "  </tbody>\n",
       "</table>\n",
       "</div>"
      ],
      "text/plain": [
       "      index                                              Moves     Usage  Gen  \\\n",
       "0  Bronzong  ['gyroball', 'explosion', 'earthquake', 'steal...  0.124514    4   \n",
       "1  Swampert  ['earthquake', 'stealthrock', 'waterfall', 'ic...  0.120051    4   \n",
       "2   Snorlax  ['bodyslam', 'crunch', 'earthquake', 'curse', ...  0.040116    4   \n",
       "3      Uxie  ['stealthrock', 'uturn', 'thunderwave', 'psych...  0.023561    4   \n",
       "4   Machamp  ['dynamicpunch', 'payback', 'bulletpunch', 'ic...  0.102777    4   \n",
       "\n",
       "  Format  Min Rating  Recent  \n",
       "0     ou         0.0       1  \n",
       "1     ou         0.0       1  \n",
       "2     ou         0.0       1  \n",
       "3     ou         0.0       1  \n",
       "4     ou         0.0       1  "
      ]
     },
     "execution_count": 14,
     "metadata": {},
     "output_type": "execute_result"
    }
   ],
   "source": [
    "usagedf = pd.read_csv(\"Pokemon Usage/SeptemberData.csv\",index_col=0)\n",
    "usagedf.head()"
   ]
  },
  {
   "cell_type": "code",
   "execution_count": 58,
   "metadata": {},
   "outputs": [
    {
     "data": {
      "text/html": [
       "<div>\n",
       "<style scoped>\n",
       "    .dataframe tbody tr th:only-of-type {\n",
       "        vertical-align: middle;\n",
       "    }\n",
       "\n",
       "    .dataframe tbody tr th {\n",
       "        vertical-align: top;\n",
       "    }\n",
       "\n",
       "    .dataframe thead th {\n",
       "        text-align: right;\n",
       "    }\n",
       "</style>\n",
       "<table border=\"1\" class=\"dataframe\">\n",
       "  <thead>\n",
       "    <tr style=\"text-align: right;\">\n",
       "      <th></th>\n",
       "      <th>name</th>\n",
       "      <th>type</th>\n",
       "    </tr>\n",
       "    <tr>\n",
       "      <th>move</th>\n",
       "      <th></th>\n",
       "      <th></th>\n",
       "    </tr>\n",
       "  </thead>\n",
       "  <tbody>\n",
       "    <tr>\n",
       "      <th>10000000voltthunderbolt</th>\n",
       "      <td>10,000,000 Volt Thunderbolt</td>\n",
       "      <td>Electric</td>\n",
       "    </tr>\n",
       "    <tr>\n",
       "      <th>absorb</th>\n",
       "      <td>Absorb</td>\n",
       "      <td>Grass</td>\n",
       "    </tr>\n",
       "    <tr>\n",
       "      <th>accelerock</th>\n",
       "      <td>Accelerock</td>\n",
       "      <td>Rock</td>\n",
       "    </tr>\n",
       "    <tr>\n",
       "      <th>acid</th>\n",
       "      <td>Acid</td>\n",
       "      <td>Poison</td>\n",
       "    </tr>\n",
       "    <tr>\n",
       "      <th>acidarmor</th>\n",
       "      <td>Acid Armor</td>\n",
       "      <td>Poison</td>\n",
       "    </tr>\n",
       "  </tbody>\n",
       "</table>\n",
       "</div>"
      ],
      "text/plain": [
       "                                                name      type\n",
       "move                                                          \n",
       "10000000voltthunderbolt  10,000,000 Volt Thunderbolt  Electric\n",
       "absorb                                        Absorb     Grass\n",
       "accelerock                                Accelerock      Rock\n",
       "acid                                            Acid    Poison\n",
       "acidarmor                                 Acid Armor    Poison"
      ]
     },
     "execution_count": 58,
     "metadata": {},
     "output_type": "execute_result"
    }
   ],
   "source": [
    "movesdf = pd.read_csv(\"Pokedex and Moves/moves.csv\", index_col=0).set_index('move')\n",
    "movesdf.head()"
   ]
  },
  {
   "cell_type": "code",
   "execution_count": 126,
   "metadata": {},
   "outputs": [],
   "source": [
    "def standardize_moves(df):\n",
    "    type1 = []\n",
    "    type2 = []\n",
    "    type3 = []\n",
    "    type4 = []\n",
    "    type5 = []\n",
    "    type6 = []\n",
    "    type_list = [type1, type2, type3, type4, type5, type6]\n",
    "\n",
    "    for row in range(len(df[\"Moves\"])):\n",
    "        moves = df[\"Moves\"][row].strip('][').split(', ')\n",
    "        list_num = 0\n",
    "        for each in range(6):\n",
    "            if each >= len(moves):\n",
    "                move_type = np.nan\n",
    "                type_list[list_num].append(move_type)\n",
    "                list_num += 1\n",
    "\n",
    "            else:\n",
    "                string = moves[each].replace(\"'\",\"\")\n",
    "                if (string) == \"\":\n",
    "                    move_type = np.nan\n",
    "                    type_list[list_num].append(move_type)\n",
    "                    list_num += 1\n",
    "                else:\n",
    "                    move_type = movesdf.loc[string]['type']\n",
    "                    type_list[list_num].append(move_type)\n",
    "                    list_num += 1\n",
    "    df[\"Type 1\"] = type_list[0]\n",
    "    df[\"Type 2\"] = type_list[1]\n",
    "    df[\"Type 3\"] = type_list[2]\n",
    "    df[\"Type 4\"] = type_list[3]\n",
    "    df[\"Type 5\"] = type_list[4]\n",
    "    df[\"Type 6\"] = type_list[5]\n",
    "\n",
    "    return df"
   ]
  },
  {
   "cell_type": "code",
   "execution_count": 127,
   "metadata": {},
   "outputs": [],
   "source": [
    "check = standardize_moves(usagedf)\n"
   ]
  },
  {
   "cell_type": "code",
   "execution_count": 133,
   "metadata": {},
   "outputs": [
    {
     "data": {
      "text/plain": [
       "Normal      395\n",
       "Ground      283\n",
       "Flying      164\n",
       "Fighting    161\n",
       "Dark        161\n",
       "Water       154\n",
       "Steel       153\n",
       "Grass       134\n",
       "Electric    131\n",
       "Dragon      130\n",
       "Ice         121\n",
       "Fairy       116\n",
       "Rock        110\n",
       "Fire        107\n",
       "Bug         103\n",
       "Ghost       103\n",
       "Psychic      96\n",
       "Poison       68\n",
       "Name: Type 1, dtype: int64"
      ]
     },
     "execution_count": 133,
     "metadata": {},
     "output_type": "execute_result"
    }
   ],
   "source": [
    "check[[\"Type 1\", \"Type 2\", \"Type 3\",\"Type 4\",\"Type 5\",\"Type 6\"]][\"Type 1\"].value_counts()"
   ]
  },
  {
   "cell_type": "code",
   "execution_count": null,
   "metadata": {},
   "outputs": [],
   "source": []
  }
 ],
 "metadata": {
  "interpreter": {
   "hash": "9e57da381150c32bc445a617f5277ea2102eb0088f85f33ec3bf81d0c63bfe54"
  },
  "kernelspec": {
   "display_name": "Python 3.8.8 64-bit ('base': conda)",
   "language": "python",
   "name": "python3"
  },
  "language_info": {
   "codemirror_mode": {
    "name": "ipython",
    "version": 3
   },
   "file_extension": ".py",
   "mimetype": "text/x-python",
   "name": "python",
   "nbconvert_exporter": "python",
   "pygments_lexer": "ipython3",
   "version": "3.8.8"
  },
  "orig_nbformat": 4
 },
 "nbformat": 4,
 "nbformat_minor": 2
}
