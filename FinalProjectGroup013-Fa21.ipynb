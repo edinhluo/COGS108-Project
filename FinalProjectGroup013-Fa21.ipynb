{
 "cells": [
  {
   "cell_type": "markdown",
   "metadata": {},
   "source": [
    "# COGS 108 - Final Project (change this to your project's title)"
   ]
  },
  {
   "cell_type": "markdown",
   "metadata": {},
   "source": [
    "## Permissions\n",
    "\n",
    "Place an `X` in the appropriate bracket below to specify if you would like your group's project to be made available to the public. (Note that student names will be included (but PIDs will be scraped from any groups who include their PIDs).\n",
    "\n",
    "* [  ] YES - make available\n",
    "* [  ] NO - keep private"
   ]
  },
  {
   "cell_type": "markdown",
   "metadata": {},
   "source": [
    "# Overview"
   ]
  },
  {
   "cell_type": "markdown",
   "metadata": {},
   "source": [
    "*Fill in your overview here*"
   ]
  },
  {
   "cell_type": "markdown",
   "metadata": {},
   "source": [
    "# Names\n",
    "\n",
    "- Crystal Zhan\n",
    "- Akil Selvan Rajendra Janarthanan \n",
    "- Kristen Prescaro\n",
    "- Kristine Thipatima\n",
    "- Ethan Dinh-Luong"
   ]
  },
  {
   "cell_type": "markdown",
   "metadata": {},
   "source": [
    "<a id='research_question'></a>\n",
    "# Research Question"
   ]
  },
  {
   "cell_type": "markdown",
   "metadata": {},
   "source": [
    "How did the addition of the Fairy type Pokemon change competitive battling?"
   ]
  },
  {
   "cell_type": "markdown",
   "metadata": {},
   "source": [
    "<a id='background'></a>\n",
    "\n",
    "## Background & Prior Work"
   ]
  },
  {
   "cell_type": "markdown",
   "metadata": {},
   "source": [
    "Pokémon Showdown is a Pokémon battle simulator that allows players to build teams of Pokémon and battle each other online with various battle formats. In a Pokémon battle, each player has a team of 6 Pokémon, and each Pokémon has 4 different moves that can be used in battles. Every Pokémon has 1 or 2 types, which determines their strengths and weaknesses against other Pokémon types, and each move also has 1 type. Each Pokémon is assigned a limited pool of usable moves that can include other types besides its own. Prior to the 6th generation of Pokémon, there were 17 Pokémon types: Normal, Fire, Water, Grass, Electric, Ice, Fighting, Poison, Ground, Flying, Psychic, Bug, Rock, Ghost, Dark, Dragon, and Steel. However, Gen VI saw the introduction of the Fairy type, which created a major shift in type dynamics. Fairy types are weak to Poison and Steel and super effective against Dark, Fighting, and, most notably, Dragon. Fairy is the only type that is both super effective against and completely immune to Dragon types, a type which has historically been popular in competitive Pokémon battles because of their high stats (the highest average stat total of all types, according to Bulbapedia) and few type weaknesses. Nicholas Vadivelu’s analysis on competitive Pokémon found that Fairy type Pokemon have become quite prominent in upper competitive tiers, which effectively puts them in direct competition with Dragon types.\n",
    "\n",
    "Pokemon Showdown has three major formats: Ubers, OU and UU. Each format has different restrictions on what Pokemon are allowed based on how dominating a Pokemon is. UU has the most restrictions on Pokemon of these three tiers, banning Pokemon that are too powerful to allow Pokemon that are less used to be more effective. Ubers has the least restrictions and allows players to use and pokemon that they would like with a few minor exceptions. OU is in the middle of UU and Ubers as it has more restrictions than Ubers but less restrictions than UU.The introduction of Fairy types in generation 6 affect the use of Dragon types differently in each format as different Fairy types are allowed in each tier. \n",
    "\n",
    "\n",
    "References (include links):\n",
    "- https://bulbapedia.bulbagarden.net/wiki/Dragon_(type)\n",
    "- https://github.com/n2cholas/pokemon-analysis/blob/master/Competitive-Pokemon-Analysis-and-Modelling.ipynb"
   ]
  },
  {
   "cell_type": "markdown",
   "metadata": {},
   "source": [
    "# Hypothesis\n"
   ]
  },
  {
   "cell_type": "markdown",
   "metadata": {},
   "source": [
    "With the addition of the new Fairy type in Generation 6, we predicted that types effective against Fairy type (Poison, Steel) would increase in usage, while the Dragon type, which is weak to Fairy type, would decrease in usage. We would also expect Ice types, another counter to Dragon types, to decrease in usage. We predicted that the trend would remain consistent as more Fairy type Pokemon are added to the game with each generation."
   ]
  },
  {
   "cell_type": "markdown",
   "metadata": {},
   "source": [
    "# Dataset(s)"
   ]
  },
  {
   "cell_type": "markdown",
   "metadata": {},
   "source": [
    "### Dataset Name: Pokedex\n",
    "- Link to the dataset: https://github.com/smogon/pokemon-showdown/blob/master/data/pokedex.ts\n",
    "- Number of observations: 1155\n",
    "- This dataset has every single Pokemon and many of their attributes, like name, gender, height, and stats. We are using their name and type. \n",
    "### Dataset Name: Moves\n",
    "- Link to the dataset: https://github.com/smogon/pokemon-showdown/blob/master/data/moves.ts\n",
    "- Number of observations: 859 \n",
    "- This dataset has every single move a Pokemon can learn and attributes, like power, accuracy, and type. We will be using the move's type and name. \n",
    "\n",
    "### Dataset Name: Pokemon Showdown Battle Stats \n",
    "- Link to the dataset: https://www.smogon.com/stats/\n",
    "- Number of observations: 6001\n",
    "- This dataset has all the statistics from Pokemon Showdown battles ranging from 2014 to now in different battle formats. We will extract the top Pokemon used in specific formats and months at high rating, alongside the Pokemon usage % and move usage %. \n",
    "\n",
    "### Joining the Datasets\n",
    "- **Battle Stats** and **Pokedex** will be merged on the Pokemon's Name.\n",
    "- **Battle Stats** and **Moves** will be merged on the Move Names."
   ]
  },
  {
   "cell_type": "markdown",
   "metadata": {},
   "source": [
    "# Setup"
   ]
  },
  {
   "cell_type": "code",
   "execution_count": 1,
   "metadata": {},
   "outputs": [],
   "source": [
    "## YOUR CODE HERE"
   ]
  },
  {
   "cell_type": "markdown",
   "metadata": {},
   "source": [
    "# Data Cleaning"
   ]
  },
  {
   "cell_type": "markdown",
   "metadata": {},
   "source": [
    "Describe your data cleaning steps here."
   ]
  },
  {
   "cell_type": "code",
   "execution_count": 2,
   "metadata": {},
   "outputs": [],
   "source": [
    "## YOUR CODE HERE\n",
    "## FEEL FREE TO ADD MULTIPLE CELLS PER SECTION"
   ]
  },
  {
   "cell_type": "markdown",
   "metadata": {},
   "source": [
    "# Data Analysis & Results"
   ]
  },
  {
   "cell_type": "markdown",
   "metadata": {},
   "source": [
    "Include cells that describe the steps in your data analysis."
   ]
  },
  {
   "cell_type": "code",
   "execution_count": 3,
   "metadata": {},
   "outputs": [],
   "source": [
    "## YOUR CODE HERE\n",
    "## FEEL FREE TO ADD MULTIPLE CELLS PER SECTION"
   ]
  },
  {
   "cell_type": "markdown",
   "metadata": {},
   "source": [
    "# Ethics & Privacy"
   ]
  },
  {
   "cell_type": "markdown",
   "metadata": {},
   "source": [
    "*Fill in your ethics & privacy discussion here*"
   ]
  },
  {
   "cell_type": "markdown",
   "metadata": {},
   "source": [
    "# Conclusion & Discussion"
   ]
  },
  {
   "cell_type": "markdown",
   "metadata": {},
   "source": [
    "*Fill in your discussion information here*"
   ]
  },
  {
   "cell_type": "markdown",
   "metadata": {},
   "source": [
    "# Team Contributions"
   ]
  },
  {
   "cell_type": "markdown",
   "metadata": {},
   "source": [
    "*Specify who in your group worked on which parts of the project.*"
   ]
  }
 ],
 "metadata": {
  "kernelspec": {
   "display_name": "Python 3",
   "language": "python",
   "name": "python3"
  },
  "language_info": {
   "codemirror_mode": {
    "name": "ipython",
    "version": 3
   },
   "file_extension": ".py",
   "mimetype": "text/x-python",
   "name": "python",
   "nbconvert_exporter": "python",
   "pygments_lexer": "ipython3",
   "version": "3.9.7"
  }
 },
 "nbformat": 4,
 "nbformat_minor": 2
}
