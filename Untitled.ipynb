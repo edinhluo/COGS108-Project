{
 "cells": [
  {
   "cell_type": "code",
   "execution_count": 1,
   "id": "b99564e5",
   "metadata": {},
   "outputs": [],
   "source": [
    "import pandas as pd\n",
    "import numpy as np\n",
    "import seaborn as sns\n",
    "import matplotlib.pyplot as plt"
   ]
  },
  {
   "cell_type": "code",
   "execution_count": 3,
   "id": "21272e2b",
   "metadata": {},
   "outputs": [
    {
     "name": "stdout",
     "output_type": "stream",
     "text": [
      "(5916, 7)\n"
     ]
    },
    {
     "data": {
      "text/html": [
       "<div>\n",
       "<style scoped>\n",
       "    .dataframe tbody tr th:only-of-type {\n",
       "        vertical-align: middle;\n",
       "    }\n",
       "\n",
       "    .dataframe tbody tr th {\n",
       "        vertical-align: top;\n",
       "    }\n",
       "\n",
       "    .dataframe thead th {\n",
       "        text-align: right;\n",
       "    }\n",
       "</style>\n",
       "<table border=\"1\" class=\"dataframe\">\n",
       "  <thead>\n",
       "    <tr style=\"text-align: right;\">\n",
       "      <th></th>\n",
       "      <th>name</th>\n",
       "      <th>Moves</th>\n",
       "      <th>Usage</th>\n",
       "      <th>Gen</th>\n",
       "      <th>Format</th>\n",
       "      <th>Min Rating</th>\n",
       "      <th>Recent</th>\n",
       "      <th>Type 1</th>\n",
       "      <th>Type 2</th>\n",
       "    </tr>\n",
       "  </thead>\n",
       "  <tbody>\n",
       "    <tr>\n",
       "      <th>0</th>\n",
       "      <td>Bronzong</td>\n",
       "      <td>['gyroball', 'explosion', 'earthquake', 'steal...</td>\n",
       "      <td>0.124514</td>\n",
       "      <td>4.0</td>\n",
       "      <td>ou</td>\n",
       "      <td>0.0</td>\n",
       "      <td>1</td>\n",
       "      <td>Steel</td>\n",
       "      <td>Psychic</td>\n",
       "    </tr>\n",
       "    <tr>\n",
       "      <th>1</th>\n",
       "      <td>Swampert</td>\n",
       "      <td>['earthquake', 'stealthrock', 'waterfall', 'ic...</td>\n",
       "      <td>0.120051</td>\n",
       "      <td>4.0</td>\n",
       "      <td>ou</td>\n",
       "      <td>0.0</td>\n",
       "      <td>1</td>\n",
       "      <td>Water</td>\n",
       "      <td>Ground</td>\n",
       "    </tr>\n",
       "    <tr>\n",
       "      <th>2</th>\n",
       "      <td>Snorlax</td>\n",
       "      <td>['bodyslam', 'crunch', 'earthquake', 'curse', ...</td>\n",
       "      <td>0.040116</td>\n",
       "      <td>4.0</td>\n",
       "      <td>ou</td>\n",
       "      <td>0.0</td>\n",
       "      <td>1</td>\n",
       "      <td>Normal</td>\n",
       "      <td>NaN</td>\n",
       "    </tr>\n",
       "    <tr>\n",
       "      <th>3</th>\n",
       "      <td>Uxie</td>\n",
       "      <td>['stealthrock', 'uturn', 'thunderwave', 'psych...</td>\n",
       "      <td>0.023561</td>\n",
       "      <td>4.0</td>\n",
       "      <td>ou</td>\n",
       "      <td>0.0</td>\n",
       "      <td>1</td>\n",
       "      <td>Psychic</td>\n",
       "      <td>NaN</td>\n",
       "    </tr>\n",
       "    <tr>\n",
       "      <th>4</th>\n",
       "      <td>Machamp</td>\n",
       "      <td>['dynamicpunch', 'payback', 'bulletpunch', 'ic...</td>\n",
       "      <td>0.102777</td>\n",
       "      <td>4.0</td>\n",
       "      <td>ou</td>\n",
       "      <td>0.0</td>\n",
       "      <td>1</td>\n",
       "      <td>Fighting</td>\n",
       "      <td>NaN</td>\n",
       "    </tr>\n",
       "  </tbody>\n",
       "</table>\n",
       "</div>"
      ],
      "text/plain": [
       "       name                                              Moves     Usage  Gen  \\\n",
       "0  Bronzong  ['gyroball', 'explosion', 'earthquake', 'steal...  0.124514  4.0   \n",
       "1  Swampert  ['earthquake', 'stealthrock', 'waterfall', 'ic...  0.120051  4.0   \n",
       "2   Snorlax  ['bodyslam', 'crunch', 'earthquake', 'curse', ...  0.040116  4.0   \n",
       "3      Uxie  ['stealthrock', 'uturn', 'thunderwave', 'psych...  0.023561  4.0   \n",
       "4   Machamp  ['dynamicpunch', 'payback', 'bulletpunch', 'ic...  0.102777  4.0   \n",
       "\n",
       "  Format  Min Rating  Recent    Type 1   Type 2  \n",
       "0     ou         0.0       1     Steel  Psychic  \n",
       "1     ou         0.0       1     Water   Ground  \n",
       "2     ou         0.0       1    Normal      NaN  \n",
       "3     ou         0.0       1   Psychic      NaN  \n",
       "4     ou         0.0       1  Fighting      NaN  "
      ]
     },
     "execution_count": 3,
     "metadata": {},
     "output_type": "execute_result"
    }
   ],
   "source": [
    "### Importing Usage DFs and Merging Them\n",
    "recentdf = pd.read_csv(\"Pokemon Usage/SeptemberData.csv\",index_col=0).rename(columns = {'index':\"name\"})\n",
    "olddf =  pd.read_csv(\"Pokemon Usage/OldData.csv\",index_col=0).rename(columns = {'index':\"name\"})\n",
    "usagedf = recentdf.merge(olddf, how='outer')\n",
    "print(usagedf.shape)\n",
    "usagedf.head()\n",
    "### Import Usage Data\n",
    "usagedf = recentdf.merge(olddf, how='outer')\n",
    "\n",
    "### Import Pokemon Types Data\n",
    "pokedexdf = pd.read_csv(\"Pokedex and Moves/pokemon.csv\", index_col=0).set_index('name')[['types','type2']]\n",
    "\n",
    "### Left Join Usage DF with Pokemon Types DF on \"name\" while renaming the additional columns\n",
    "usagetypesdf = usagedf.join(pokedexdf, on=\"name\").rename(columns={'types': \"Type 1\", \"type2\": \"Type 2\"})\n",
    "usagetypesdf.head()\n"
   ]
  },
  {
   "cell_type": "code",
   "execution_count": 46,
   "id": "84f96ea0",
   "metadata": {},
   "outputs": [
    {
     "name": "stdout",
     "output_type": "stream",
     "text": [
      "Gen 4 Dragon Usage =  9.405634699999998 ; Gen 4 Not Dragon Usage =  13.352855499999997\n"
     ]
    },
    {
     "name": "stderr",
     "output_type": "stream",
     "text": [
      "<ipython-input-46-9f6874b593dc>:3: UserWarning: Boolean Series key will be reindexed to match DataFrame index.\n",
      "  gen4uber = usagetypesdf[usagetypesdf[\"Gen\"] == 4.0][usagetypesdf[\"Format\"] == 'ubers']\n"
     ]
    }
   ],
   "source": [
    "dragon['Usage'].sum()\n",
    "gen4uber = usagetypesdf[usagetypesdf[\"Gen\"] == 4.0][usagetypesdf[\"Format\"] == 'ubers']\n",
    "dragon = gen4uber.loc[((gen4uber['Type 1']=='Dragon') | (gen4uber['Type 2']=='Dragon')), :]\n",
    "dragonusage = dragon['Usage'].sum()\n",
    "notdragon = gen4uber.loc[((gen4uber['Type 1']!='Dragon') & (gen4uber['Type 2']!='Dragon')), :]\n",
    "notdragonusage = notdragon['Usage'].sum()\n",
    "print(\"Gen 4 Dragon Usage = \", dragonusage, \"; Gen 4 Not Dragon Usage = \", notdragonusage )"
   ]
  },
  {
   "cell_type": "code",
   "execution_count": 28,
   "id": "768148ee",
   "metadata": {},
   "outputs": [
    {
     "data": {
      "text/plain": [
       "0       4.0\n",
       "1       4.0\n",
       "2       4.0\n",
       "3       4.0\n",
       "4       4.0\n",
       "       ... \n",
       "5911    8.0\n",
       "5912    8.0\n",
       "5913    8.0\n",
       "5914    8.0\n",
       "5915    8.0\n",
       "Name: Gen, Length: 5916, dtype: float64"
      ]
     },
     "execution_count": 28,
     "metadata": {},
     "output_type": "execute_result"
    }
   ],
   "source": [
    "usagetypesdf[\"Gen\"]\n",
    "4uber = usagetypesdf[]"
   ]
  },
  {
   "cell_type": "code",
   "execution_count": 8,
   "id": "60861a94",
   "metadata": {},
   "outputs": [
    {
     "data": {
      "text/plain": [
       "<AxesSubplot:xlabel='count', ylabel='Type 1'>"
      ]
     },
     "execution_count": 8,
     "metadata": {},
     "output_type": "execute_result"
    },
    {
     "data": {
      "image/png": "[encoded data removed]",
      "text/plain": [
       "<Figure size 432x288 with 1 Axes>"
      ]
     },
     "metadata": {
      "needs_background": "light"
     },
     "output_type": "display_data"
    }
   ],
   "source": [
    "sns.countplot(y ='Type 1', data = usagetypesdf)"
   ]
  },
  {
   "cell_type": "code",
   "execution_count": 9,
   "id": "a7df1638",
   "metadata": {},
   "outputs": [
    {
     "data": {
      "text/plain": [
       "<AxesSubplot:xlabel='count', ylabel='Type 2'>"
      ]
     },
     "execution_count": 9,
     "metadata": {},
     "output_type": "execute_result"
    },
    {
     "data": {
      "image/png": "[encoded data removed]",
      "text/plain": [
       "<Figure size 432x288 with 1 Axes>"
      ]
     },
     "metadata": {
      "needs_background": "light"
     },
     "output_type": "display_data"
    }
   ],
   "source": [
    "sns.countplot(y ='Type 2', data = usagetypesdf)"
   ]
  },
  {
   "cell_type": "code",
   "execution_count": null,
   "id": "3c59a04b",
   "metadata": {},
   "outputs": [],
   "source": []
  }
 ],
 "metadata": {
  "kernelspec": {
   "display_name": "Python 3",
   "language": "python",
   "name": "python3"
  },
  "language_info": {
   "codemirror_mode": {
    "name": "ipython",
    "version": 3
   },
   "file_extension": ".py",
   "mimetype": "text/x-python",
   "name": "python",
   "nbconvert_exporter": "python",
   "pygments_lexer": "ipython3",
   "version": "3.8.8"
  }
 },
 "nbformat": 4,
 "nbformat_minor": 5
}
